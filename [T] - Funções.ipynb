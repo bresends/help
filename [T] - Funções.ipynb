{
 "cells": [
  {
   "cell_type": "markdown",
   "metadata": {
    "colab_type": "text",
    "id": "DB0CYHsSggWU"
   },
   "source": [
    "# Funções Regulares"
   ]
  },
  {
   "cell_type": "markdown",
   "metadata": {
    "colab_type": "text",
    "id": "waETY0Ly3nn1"
   },
   "source": [
    "## Uma função pode ter duas tarefas:\n",
    "\n",
    "\n",
    "1.   Realiza uma ação \n",
    "2.   Retorna um valor \n",
    "\n",
    "Para as que retornam um valor eu preciso do *return*\n",
    " \n"
   ]
  },
  {
   "cell_type": "markdown",
   "metadata": {
    "colab_type": "text",
    "id": "yR-dAuH7qXCr"
   },
   "source": [
    "## Defino a função, depois a variável e depois puxo "
   ]
  },
  {
   "cell_type": "code",
   "execution_count": null,
   "metadata": {
    "colab": {
     "base_uri": "https://localhost:8080/",
     "height": 35
    },
    "colab_type": "code",
    "executionInfo": {
     "elapsed": 628,
     "status": "ok",
     "timestamp": 1587068397078,
     "user": {
      "displayName": "Bruno Resende",
      "photoUrl": "https://lh4.googleusercontent.com/-xGllpZMWIRM/AAAAAAAAAAI/AAAAAAAAATo/KyAa1QvSKlc/s64/photo.jpg",
      "userId": "10713419484442461753"
     },
     "user_tz": 180
    },
    "id": "4S2ekTz7om4F",
    "outputId": "58114baf-0e3f-4aa9-b49c-dae080c58d5f"
   },
   "outputs": [
    {
     "data": {
      "text/plain": [
       "7"
      ]
     },
     "execution_count": 7,
     "metadata": {
      "tags": []
     },
     "output_type": "execute_result"
    }
   ],
   "source": [
    "# Criando uma função que soma itens\n",
    "\n",
    "def soma(item1,item2):\n",
    "  resultado = item1 + item2\n",
    "  return resultado\n",
    "\n",
    "# Sempre 2 linhas entre uma função e o código \n",
    "# Programa Principal \n",
    "\n",
    "soma(3,4)"
   ]
  },
  {
   "cell_type": "code",
   "execution_count": null,
   "metadata": {
    "colab": {
     "base_uri": "https://localhost:8080/",
     "height": 72
    },
    "colab_type": "code",
    "executionInfo": {
     "elapsed": 763,
     "status": "ok",
     "timestamp": 1587066220473,
     "user": {
      "displayName": "Bruno Resende",
      "photoUrl": "https://lh4.googleusercontent.com/-xGllpZMWIRM/AAAAAAAAAAI/AAAAAAAAATo/KyAa1QvSKlc/s64/photo.jpg",
      "userId": "10713419484442461753"
     },
     "user_tz": 180
    },
    "id": "1Y6W7LvWgsmB",
    "outputId": "f81214fa-ce5c-46c2-bab7-15af643b5076"
   },
   "outputs": [
    {
     "name": "stdout",
     "output_type": "stream",
     "text": [
      "______________________________\n",
      "A lua me traiu\n",
      "______________________________\n"
     ]
    }
   ],
   "source": [
    "# Criando função que pega um nome e imprime ele entre linhas\n",
    "def nome_linhas(nome):\n",
    "  print('_'*30)\n",
    "  print(nome)\n",
    "  print('_'*30)\n",
    "\n",
    "# Chamando a função \n",
    "nome_linhas('A lua me traiu')"
   ]
  },
  {
   "cell_type": "markdown",
   "metadata": {
    "colab_type": "text",
    "id": "sll4KCZrqO-A"
   },
   "source": [
    "### Criando Função onde eu não sei a quantidade de variáveis"
   ]
  },
  {
   "cell_type": "code",
   "execution_count": null,
   "metadata": {
    "colab": {},
    "colab_type": "code",
    "id": "NMxI-XXWqSdx"
   },
   "outputs": [],
   "source": [
    "# Ao colocar um astrisco eu basicamente falo pro pyton, se vira amigo\n",
    "def contador(*num):\n",
    "  print(num)\n",
    "  print(f'A sua função tem {len(num)} itens')\n",
    "\n",
    "\n",
    "#Programa Principal \n",
    "contador(2, 1, 7)\n",
    "contador(8, 0)"
   ]
  },
  {
   "cell_type": "markdown",
   "metadata": {},
   "source": [
    "## main()  Functions"
   ]
  },
  {
   "cell_type": "markdown",
   "metadata": {},
   "source": [
    "É uma boa prática criar funções main() ao fazer código que vai ser modularizado. \n",
    "E o ideal é que ele chame funções (pra modularizar mais)\n",
    "Se quiser rever como assista esse vídeo aqui: https://www.youtube.com/watch?v=lOeIDvyRUQs"
   ]
  },
  {
   "cell_type": "markdown",
   "metadata": {},
   "source": [
    "# Funções Lambda "
   ]
  },
  {
   "cell_type": "markdown",
   "metadata": {},
   "source": [
    "## São usadas para aplicar funções simples dentro de parametros"
   ]
  },
  {
   "cell_type": "code",
   "execution_count": 4,
   "metadata": {},
   "outputs": [
    {
     "name": "stdout",
     "output_type": "stream",
     "text": [
      "8\n"
     ]
    }
   ],
   "source": [
    "# Se eu quero fazer uma função que multiplica 2 números eu faço o seguinte \n",
    "\n",
    "def multiplica(num1,num2):\n",
    "    return num1*num2\n",
    "\n",
    "resultado = multiplica(2,4)\n",
    "print(resultado)"
   ]
  },
  {
   "cell_type": "code",
   "execution_count": 17,
   "metadata": {},
   "outputs": [
    {
     "name": "stdout",
     "output_type": "stream",
     "text": [
      "4\n"
     ]
    }
   ],
   "source": [
    "# Se eu quero fazer essa mesma função de um jeito mais simplese eu posso fazer \n",
    "\n",
    "resultado = lambda num1, num2: num1*num2\n",
    "print(resultado(2,2))"
   ]
  },
  {
   "cell_type": "markdown",
   "metadata": {},
   "source": [
    "Estrutura = \"nome da função = lambda (ou seja, função anonima)\" recebe \"argumento\" : retorna... \"a*a\""
   ]
  },
  {
   "cell_type": "markdown",
   "metadata": {},
   "source": [
    "## Usos práticos\n",
    "É muito usada quando eu só quero usar aquela função 1 única vez ou se quero usar ela como argumento de um método"
   ]
  },
  {
   "cell_type": "markdown",
   "metadata": {},
   "source": [
    "### Tenho uma lista dentro de outra lista (Produtos e preços)\n",
    "Quero ordenar por preço"
   ]
  },
  {
   "cell_type": "code",
   "execution_count": 15,
   "metadata": {},
   "outputs": [],
   "source": [
    "lista = [\n",
    "    ['Batata', 13],\n",
    "    ['Maça',15],\n",
    "    ['Carne', 22],\n",
    "    ['Milho', 3]\n",
    "]\n",
    "\n",
    "# Nesse caso, se eu fizer o sort ele não sabe qual o elemento pegar \n",
    "# Então ele vai pegar o primeiro elemento e fazer em ordem alfabética\n",
    "# Pra isso eu faço uma função que diz que é pra pegar o elemento 1 dentro de cada lista\n",
    "lista.sort()\n",
    "print(lista)"
   ]
  },
  {
   "cell_type": "code",
   "execution_count": 16,
   "metadata": {},
   "outputs": [
    {
     "name": "stdout",
     "output_type": "stream",
     "text": [
      "[['Milho', 3], ['Batata', 13], ['Maça', 15], ['Carne', 22]]\n"
     ]
    }
   ],
   "source": [
    "# Faço a ordenação da lista, aplicando como key de ordenação uma função que seleciona \n",
    "# O primeiro item de cada lista aninhada. \n",
    "\n",
    "lista.sort(key=lambda item: item[1])\n",
    "print(lista)"
   ]
  }
 ],
 "metadata": {
  "kernelspec": {
   "display_name": "Python 3",
   "language": "python",
   "name": "python3"
  },
  "language_info": {
   "codemirror_mode": {
    "name": "ipython",
    "version": 3
   },
   "file_extension": ".py",
   "mimetype": "text/x-python",
   "name": "python",
   "nbconvert_exporter": "python",
   "pygments_lexer": "ipython3",
   "version": "3.7.7"
  }
 },
 "nbformat": 4,
 "nbformat_minor": 4
}
