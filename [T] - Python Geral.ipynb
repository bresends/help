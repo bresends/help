{
 "cells": [
  {
   "cell_type": "markdown",
   "metadata": {},
   "source": [
    "# Virtual Env"
   ]
  },
  {
   "cell_type": "code",
   "execution_count": null,
   "metadata": {},
   "outputs": [],
   "source": [
    "#Criando \n",
    "conda create -n nomes_ambiente python=3.8\n",
    "\n",
    "# Ativando \n",
    "activate nome_ambiente\n",
    "\n",
    "# Mostrando os pacotes do ambiente\n",
    "conda lista #já dentro do ambiente\n",
    "\n",
    "# Mostrando todos os ambientes\n",
    "conda env list \n",
    "\n",
    "# Saindo do ambiente \n",
    "deativate #saindo do ambiente \n",
    "\n",
    "# Deletando \n",
    "conda env remove -n nome_ambiente "
   ]
  },
  {
   "cell_type": "markdown",
   "metadata": {
    "colab_type": "text",
    "id": "ZpCQWwrXhUnO"
   },
   "source": [
    "# Comandos importantes"
   ]
  },
  {
   "cell_type": "markdown",
   "metadata": {
    "colab_type": "text",
    "id": "BufbCZ4KIGy8"
   },
   "source": [
    "## Pip"
   ]
  },
  {
   "cell_type": "code",
   "execution_count": null,
   "metadata": {
    "colab": {},
    "colab_type": "code",
    "id": "Np1poERFIE3f"
   },
   "outputs": [],
   "source": [
    "# Ver tudo instalado no programa \n",
    "\n",
    "!pip list"
   ]
  },
  {
   "cell_type": "markdown",
   "metadata": {
    "colab_type": "text",
    "id": "MOmJxYBgjF67"
   },
   "source": [
    "# Texto e Strings"
   ]
  },
  {
   "cell_type": "code",
   "execution_count": null,
   "metadata": {
    "colab": {
     "base_uri": "https://localhost:8080/"
    },
    "colab_type": "code",
    "executionInfo": {
     "elapsed": 592,
     "status": "ok",
     "timestamp": 1587462229631,
     "user": {
      "displayName": "Bruno Resende",
      "photoUrl": "https://lh4.googleusercontent.com/-xGllpZMWIRM/AAAAAAAAAAI/AAAAAAAAATo/KyAa1QvSKlc/s64/photo.jpg",
      "userId": "10713419484442461753"
     },
     "user_tz": 180
    },
    "id": "55tEsjhojMzh",
    "outputId": "2a33ea16-15bf-4aa3-ad06-7bf1e0ae80d4"
   },
   "outputs": [],
   "source": [
    "# Fatiando uma string \n",
    "\n",
    "a = 'Texto escrito em python'\n",
    "\n",
    "# Selecionando de um item até um final\n",
    "a[3:]\n",
    "\n",
    "# Se selecionando do início até um item\n",
    "a[:10]"
   ]
  },
  {
   "cell_type": "code",
   "execution_count": null,
   "metadata": {
    "colab": {
     "base_uri": "https://localhost:8080/"
    },
    "colab_type": "code",
    "executionInfo": {
     "elapsed": 592,
     "status": "ok",
     "timestamp": 1587462229631,
     "user": {
      "displayName": "Bruno Resende",
      "photoUrl": "https://lh4.googleusercontent.com/-xGllpZMWIRM/AAAAAAAAAAI/AAAAAAAAATo/KyAa1QvSKlc/s64/photo.jpg",
      "userId": "10713419484442461753"
     },
     "user_tz": 180
    },
    "id": "55tEsjhojMzh",
    "outputId": "2a33ea16-15bf-4aa3-ad06-7bf1e0ae80d4"
   },
   "outputs": [],
   "source": [
    "# Contando a quantidade de vezes que um caracter ocorre\n",
    "\n",
    "a.count('o')"
   ]
  },
  {
   "cell_type": "code",
   "execution_count": null,
   "metadata": {
    "colab": {
     "base_uri": "https://localhost:8080/"
    },
    "colab_type": "code",
    "executionInfo": {
     "elapsed": 592,
     "status": "ok",
     "timestamp": 1587462229631,
     "user": {
      "displayName": "Bruno Resende",
      "photoUrl": "https://lh4.googleusercontent.com/-xGllpZMWIRM/AAAAAAAAAAI/AAAAAAAAATo/KyAa1QvSKlc/s64/photo.jpg",
      "userId": "10713419484442461753"
     },
     "user_tz": 180
    },
    "id": "55tEsjhojMzh",
    "outputId": "2a33ea16-15bf-4aa3-ad06-7bf1e0ae80d4"
   },
   "outputs": [],
   "source": [
    "# Achando a posição onde um pedaço de string começa\n",
    "\n",
    "a.find('escrito') # Se retorna '-1' é pq não tem essa string dentro da string"
   ]
  },
  {
   "cell_type": "code",
   "execution_count": null,
   "metadata": {
    "colab": {
     "base_uri": "https://localhost:8080/"
    },
    "colab_type": "code",
    "executionInfo": {
     "elapsed": 592,
     "status": "ok",
     "timestamp": 1587462229631,
     "user": {
      "displayName": "Bruno Resende",
      "photoUrl": "https://lh4.googleusercontent.com/-xGllpZMWIRM/AAAAAAAAAAI/AAAAAAAAATo/KyAa1QvSKlc/s64/photo.jpg",
      "userId": "10713419484442461753"
     },
     "user_tz": 180
    },
    "id": "55tEsjhojMzh",
    "outputId": "2a33ea16-15bf-4aa3-ad06-7bf1e0ae80d4"
   },
   "outputs": [],
   "source": [
    "# Achando se um elemento existe ou não\n",
    "'escrito' in a # Retorna um Booleano"
   ]
  },
  {
   "cell_type": "code",
   "execution_count": null,
   "metadata": {
    "colab": {
     "base_uri": "https://localhost:8080/"
    },
    "colab_type": "code",
    "executionInfo": {
     "elapsed": 592,
     "status": "ok",
     "timestamp": 1587462229631,
     "user": {
      "displayName": "Bruno Resende",
      "photoUrl": "https://lh4.googleusercontent.com/-xGllpZMWIRM/AAAAAAAAAAI/AAAAAAAAATo/KyAa1QvSKlc/s64/photo.jpg",
      "userId": "10713419484442461753"
     },
     "user_tz": 180
    },
    "id": "55tEsjhojMzh",
    "outputId": "2a33ea16-15bf-4aa3-ad06-7bf1e0ae80d4"
   },
   "outputs": [],
   "source": [
    "# Tirando os espaços à esquerda e à direita \n",
    "a.strip()"
   ]
  },
  {
   "cell_type": "code",
   "execution_count": null,
   "metadata": {
    "colab": {
     "base_uri": "https://localhost:8080/"
    },
    "colab_type": "code",
    "executionInfo": {
     "elapsed": 592,
     "status": "ok",
     "timestamp": 1587462229631,
     "user": {
      "displayName": "Bruno Resende",
      "photoUrl": "https://lh4.googleusercontent.com/-xGllpZMWIRM/AAAAAAAAAAI/AAAAAAAAATo/KyAa1QvSKlc/s64/photo.jpg",
      "userId": "10713419484442461753"
     },
     "user_tz": 180
    },
    "id": "55tEsjhojMzh",
    "outputId": "2a33ea16-15bf-4aa3-ad06-7bf1e0ae80d4"
   },
   "outputs": [],
   "source": [
    "# !!!! Gerando LISTA com as palavras de uma string !!!!\n",
    "a.split()"
   ]
  },
  {
   "cell_type": "code",
   "execution_count": null,
   "metadata": {
    "colab": {
     "base_uri": "https://localhost:8080/"
    },
    "colab_type": "code",
    "executionInfo": {
     "elapsed": 592,
     "status": "ok",
     "timestamp": 1587462229631,
     "user": {
      "displayName": "Bruno Resende",
      "photoUrl": "https://lh4.googleusercontent.com/-xGllpZMWIRM/AAAAAAAAAAI/AAAAAAAAATo/KyAa1QvSKlc/s64/photo.jpg",
      "userId": "10713419484442461753"
     },
     "user_tz": 180
    },
    "id": "55tEsjhojMzh",
    "outputId": "2a33ea16-15bf-4aa3-ad06-7bf1e0ae80d4"
   },
   "outputs": [],
   "source": [
    "# Juntar palavras em uma lista pra 1 única string\n",
    "'-'.join(a) # '-' é o separador usado pra juntar as palavras"
   ]
  },
  {
   "cell_type": "code",
   "execution_count": null,
   "metadata": {
    "colab": {
     "base_uri": "https://localhost:8080/"
    },
    "colab_type": "code",
    "executionInfo": {
     "elapsed": 592,
     "status": "ok",
     "timestamp": 1587462229631,
     "user": {
      "displayName": "Bruno Resende",
      "photoUrl": "https://lh4.googleusercontent.com/-xGllpZMWIRM/AAAAAAAAAAI/AAAAAAAAATo/KyAa1QvSKlc/s64/photo.jpg",
      "userId": "10713419484442461753"
     },
     "user_tz": 180
    },
    "id": "55tEsjhojMzh",
    "outputId": "2a33ea16-15bf-4aa3-ad06-7bf1e0ae80d4"
   },
   "outputs": [],
   "source": [
    "### Print de frases grandes\n",
    "print(\"\"\"\n",
    "meu textão\n",
    "gigante\"\"\")"
   ]
  },
  {
   "cell_type": "code",
   "execution_count": null,
   "metadata": {
    "colab": {
     "base_uri": "https://localhost:8080/"
    },
    "colab_type": "code",
    "executionInfo": {
     "elapsed": 592,
     "status": "ok",
     "timestamp": 1587462229631,
     "user": {
      "displayName": "Bruno Resende",
      "photoUrl": "https://lh4.googleusercontent.com/-xGllpZMWIRM/AAAAAAAAAAI/AAAAAAAAATo/KyAa1QvSKlc/s64/photo.jpg",
      "userId": "10713419484442461753"
     },
     "user_tz": 180
    },
    "id": "55tEsjhojMzh",
    "outputId": "2a33ea16-15bf-4aa3-ad06-7bf1e0ae80d4"
   },
   "outputs": [],
   "source": [
    "# Trocando itens\n",
    "a = a.replace('Texto','Txengas')"
   ]
  },
  {
   "cell_type": "code",
   "execution_count": null,
   "metadata": {
    "colab": {
     "base_uri": "https://localhost:8080/"
    },
    "colab_type": "code",
    "executionInfo": {
     "elapsed": 592,
     "status": "ok",
     "timestamp": 1587462229631,
     "user": {
      "displayName": "Bruno Resende",
      "photoUrl": "https://lh4.googleusercontent.com/-xGllpZMWIRM/AAAAAAAAAAI/AAAAAAAAATo/KyAa1QvSKlc/s64/photo.jpg",
      "userId": "10713419484442461753"
     },
     "user_tz": 180
    },
    "id": "55tEsjhojMzh",
    "outputId": "2a33ea16-15bf-4aa3-ad06-7bf1e0ae80d4"
   },
   "outputs": [
    {
     "name": "stdout",
     "output_type": "stream",
     "text": [
      "\n",
      "meu textão\n",
      "gigante\n"
     ]
    },
    {
     "data": {
      "text/plain": [
       "'Txengas Escrito Em Python'"
      ]
     },
     "execution_count": 12,
     "metadata": {
      "tags": []
     },
     "output_type": "execute_result"
    }
   ],
   "source": [
    "# Tudo em maiúsculo ou minúsculo\n",
    "a.upper()\n",
    "a.lower()\n",
    "a.capitalize() # apenas primeira letra maiúscula\n",
    "a.title() # todas primeiras letras de uma palavra maiúsculas"
   ]
  },
  {
   "cell_type": "code",
   "execution_count": null,
   "metadata": {
    "colab": {
     "base_uri": "https://localhost:8080/",
     "height": 51
    },
    "colab_type": "code",
    "executionInfo": {
     "elapsed": 1065,
     "status": "ok",
     "timestamp": 1587237904245,
     "user": {
      "displayName": "Bruno Resende",
      "photoUrl": "https://lh4.googleusercontent.com/-xGllpZMWIRM/AAAAAAAAAAI/AAAAAAAAATo/KyAa1QvSKlc/s64/photo.jpg",
      "userId": "10713419484442461753"
     },
     "user_tz": 180
    },
    "id": "o4EJLGT3m0TB",
    "outputId": "3a25fa2c-3b0e-4563-e578-6be623af2741"
   },
   "outputs": [],
   "source": [
    "# Como colorir o print \n",
    "print('\\033[1;31;43m Mensagem \\033[m') #Lista das Cores Abaixo"
   ]
  },
  {
   "cell_type": "code",
   "execution_count": null,
   "metadata": {
    "colab": {
     "base_uri": "https://localhost:8080/",
     "height": 51
    },
    "colab_type": "code",
    "executionInfo": {
     "elapsed": 1065,
     "status": "ok",
     "timestamp": 1587237904245,
     "user": {
      "displayName": "Bruno Resende",
      "photoUrl": "https://lh4.googleusercontent.com/-xGllpZMWIRM/AAAAAAAAAAI/AAAAAAAAATo/KyAa1QvSKlc/s64/photo.jpg",
      "userId": "10713419484442461753"
     },
     "user_tz": 180
    },
    "id": "o4EJLGT3m0TB",
    "outputId": "3a25fa2c-3b0e-4563-e578-6be623af2741"
   },
   "outputs": [
    {
     "name": "stdout",
     "output_type": "stream",
     "text": [
      "\u001b[1;31;43m Mensagem \u001b[m\n",
      "Mensagem Mensagem "
     ]
    }
   ],
   "source": [
    "# Criando Prints Sucessivos sem novas linhas\n",
    "print('Mensagem', end=' ')"
   ]
  },
  {
   "cell_type": "markdown",
   "metadata": {
    "colab_type": "text",
    "id": "f3t5ITZvF-9y"
   },
   "source": [
    "[Lista das Cores](https://bixense.com/clicolors/)"
   ]
  },
  {
   "cell_type": "markdown",
   "metadata": {
    "colab_type": "text",
    "id": "Z1FNT-Zbhbbv"
   },
   "source": [
    "## Fazendo print com a função F (e casas decimais) "
   ]
  },
  {
   "cell_type": "code",
   "execution_count": null,
   "metadata": {
    "colab": {},
    "colab_type": "code",
    "id": "2kcsehcMhjXz"
   },
   "outputs": [],
   "source": [
    "variable = 12.3\n",
    "\n",
    "print(f'{variable:.2f}')\n",
    "print(f'{variable:.5f}')"
   ]
  },
  {
   "cell_type": "code",
   "execution_count": null,
   "metadata": {},
   "outputs": [],
   "source": [
    "# Copaiando texto pra área de transferência \n",
    "clipboard=pd.DataFrame(['texto'])\n",
    "clipboard.to_clipboard(index=False,header=False)"
   ]
  },
  {
   "cell_type": "markdown",
   "metadata": {},
   "source": [
    "# Condicionais "
   ]
  },
  {
   "cell_type": "markdown",
   "metadata": {},
   "source": [
    "## Observação importante:\n",
    "> Nos condicionais, se 1 única expressão for verdadeira, o programa já sai dos testes"
   ]
  },
  {
   "cell_type": "code",
   "execution_count": 9,
   "metadata": {},
   "outputs": [
    {
     "name": "stdout",
     "output_type": "stream",
     "text": [
      "A é 3\n"
     ]
    }
   ],
   "source": [
    "a = 3\n",
    "\n",
    "if a == 1:\n",
    "    print('A é 1')\n",
    "elif a == 2: #Elif é else if / Significa, Mas se / Serve pra chegar uma outra condição específica.\n",
    "    print('A é 2')\n",
    "elif a==3:\n",
    "    print('A é 3')\n",
    "else:\n",
    "    print('A é um número difernte de 1, 2 e 3 ')"
   ]
  },
  {
   "cell_type": "markdown",
   "metadata": {},
   "source": [
    "## Operadores relacionais"
   ]
  },
  {
   "cell_type": "code",
   "execution_count": null,
   "metadata": {},
   "outputs": [],
   "source": [
    "# Igual \n",
    "a == b\n",
    "\n",
    "# Maior\n",
    ">\n",
    "\n",
    "# Menor \n",
    "<\n",
    "\n",
    "# Maior igual \n",
    ">=\n",
    "\n",
    "# Menor igual \n",
    "<=\n",
    "\n",
    "# Diferente\n",
    "!=\n"
   ]
  },
  {
   "cell_type": "markdown",
   "metadata": {},
   "source": [
    "## Operadores Lógicos"
   ]
  },
  {
   "cell_type": "code",
   "execution_count": null,
   "metadata": {},
   "outputs": [],
   "source": [
    "# And, Or, Not\n",
    "\n",
    "if a == b and c < a: # A e B verdadeiras = True \n",
    "if a == b or c < a: # A ou B verdadeiras = True\n",
    "if not b > a: #Inverte o valor \n",
    "\n",
    "a in b \n",
    "a not in b \n"
   ]
  },
  {
   "cell_type": "markdown",
   "metadata": {
    "colab_type": "text",
    "id": "bQDIFFiXim8j"
   },
   "source": [
    "# Abertura e escrita de arquivos"
   ]
  },
  {
   "cell_type": "code",
   "execution_count": null,
   "metadata": {},
   "outputs": [],
   "source": [
    "## Abrindo um arquivo Txt e jogando o resultado dentro de uma lista \n",
    "\n",
    "with open(\"urls.txt\") as urls_file:\n",
    "    for line in urls_file:\n",
    "        result = get_link_count(line.strip())\n",
    "        if result is not None:\n",
    "            results.append(result)\n",
    "\n",
    "results.sort(reverse=True)"
   ]
  },
  {
   "cell_type": "code",
   "execution_count": null,
   "metadata": {
    "colab": {},
    "colab_type": "code",
    "id": "zuju0nV0irQU"
   },
   "outputs": [],
   "source": [
    "#Escrita de uma lista em um txt \n",
    "\n",
    "with open('arquivo.txt', 'w') as f:\n",
    "  for item in lista:\n",
    "    f.write(f'{item} \\n')"
   ]
  },
  {
   "cell_type": "markdown",
   "metadata": {},
   "source": [
    "# Abertura de uma URL no browser"
   ]
  },
  {
   "cell_type": "code",
   "execution_count": null,
   "metadata": {},
   "outputs": [],
   "source": [
    "import webbrowser\n",
    "webbrowser.open('http://example.com')"
   ]
  },
  {
   "cell_type": "markdown",
   "metadata": {
    "colab_type": "text",
    "id": "X88CSbY2iGwu"
   },
   "source": [
    "## Random "
   ]
  },
  {
   "cell_type": "code",
   "execution_count": null,
   "metadata": {
    "colab": {},
    "colab_type": "code",
    "id": "NtoqItS-iKAa"
   },
   "outputs": [],
   "source": [
    "import random\n",
    "\n",
    "#Gerando número inteiro dentro de um intervalo \n",
    "random.randint(0,9) - gera um número inteiro em um intervalo"
   ]
  },
  {
   "cell_type": "code",
   "execution_count": null,
   "metadata": {
    "colab": {},
    "colab_type": "code",
    "id": "NtoqItS-iKAa"
   },
   "outputs": [],
   "source": [
    "#Gerando número flutuante em um intervalo \t \n",
    ".uniform(0, 10) - gera um número flutuante em um intervalo"
   ]
  },
  {
   "cell_type": "code",
   "execution_count": null,
   "metadata": {
    "colab": {},
    "colab_type": "code",
    "id": "NtoqItS-iKAa"
   },
   "outputs": [],
   "source": [
    "#Embaralhando uma lista já existente \n",
    ".shuffle() - embaralha uma lista"
   ]
  },
  {
   "cell_type": "code",
   "execution_count": null,
   "metadata": {
    "colab": {},
    "colab_type": "code",
    "id": "NtoqItS-iKAa"
   },
   "outputs": [],
   "source": [
    "#Escolhendo item aleatório dentro de uma lista  \n",
    ".choice(sequence) - escolhe item numa lista"
   ]
  },
  {
   "cell_type": "markdown",
   "metadata": {
    "colab_type": "text",
    "id": "kUMGutiC_4bZ"
   },
   "source": [
    "## Requests"
   ]
  },
  {
   "cell_type": "markdown",
   "metadata": {
    "colab_type": "text",
    "id": "-Z0diJSfh8-y"
   },
   "source": [
    "## Matemática"
   ]
  },
  {
   "cell_type": "code",
   "execution_count": null,
   "metadata": {
    "colab": {},
    "colab_type": "code",
    "id": "rpBTYXcnh-jA"
   },
   "outputs": [],
   "source": [
    "#Tirando parte inteira de um float\n",
    "math.trunc(variable)"
   ]
  },
  {
   "cell_type": "markdown",
   "metadata": {
    "colab_type": "text",
    "id": "9UIDS7T8mMlb"
   },
   "source": [
    "## Tempo e datas "
   ]
  },
  {
   "cell_type": "code",
   "execution_count": null,
   "metadata": {
    "colab": {},
    "colab_type": "code",
    "id": "eRhvn_ksmQZ2"
   },
   "outputs": [],
   "source": [
    "# Fazendo espera \n",
    "\n",
    "from random import randint\n",
    "from time import sleep\n",
    "\n",
    "tempo_espera = randint(1,3)\n",
    "sleep(tempo_espera)"
   ]
  },
  {
   "cell_type": "markdown",
   "metadata": {
    "colab_type": "text",
    "id": "fNzdPkjNF2EC"
   },
   "source": [
    "# Tratamento de Erros"
   ]
  },
  {
   "cell_type": "code",
   "execution_count": 5,
   "metadata": {
    "colab": {
     "base_uri": "https://localhost:8080/",
     "height": 51
    },
    "colab_type": "code",
    "executionInfo": {
     "elapsed": 1117,
     "status": "ok",
     "timestamp": 1587504423377,
     "user": {
      "displayName": "Bruno Resende",
      "photoUrl": "https://lh4.googleusercontent.com/-xGllpZMWIRM/AAAAAAAAAAI/AAAAAAAAATo/KyAa1QvSKlc/s64/photo.jpg",
      "userId": "10713419484442461753"
     },
     "user_tz": 180
    },
    "id": "S6nGY4c5F-Ys",
    "outputId": "4edb4ddf-bb1e-4b6f-be81-d3ff5bcfc47b"
   },
   "outputs": [
    {
     "name": "stdout",
     "output_type": "stream",
     "text": [
      "division by zero - Não dá pra dividir por zero \n",
      "Obrigado por usar o programa\n"
     ]
    }
   ],
   "source": [
    "# Divisão por zero \n",
    "\n",
    "try: # Aqui eu digo o que é pra ele tentar\n",
    "  a = 1\n",
    "  b = 0\n",
    "  r = a/b\n",
    "\n",
    "except Exception as erro: # Aqui o que é pra ele fazer se der erro / Nesse caso pegando todos os erros. Pode ser feito individual\n",
    "  print(f'{erro} - Não dá pra dividir por zero ')\n",
    "\n",
    "else: # Opcional: o que ele deve continuar fazendo se der tudo certo\n",
    "  print('Belezinha')\n",
    "  print(r)\n",
    "\n",
    "finally: # Opcional: O que o programa deve fazer independente de dar certo ou dar errado\n",
    "  print('Obrigado por usar o programa')\n"
   ]
  },
  {
   "cell_type": "markdown",
   "metadata": {},
   "source": [
    "# Regras de Nomeclatura"
   ]
  },
  {
   "cell_type": "markdown",
   "metadata": {},
   "source": [
    "## Variáveis"
   ]
  },
  {
   "cell_type": "code",
   "execution_count": null,
   "metadata": {},
   "outputs": [],
   "source": [
    "# Letras minúsculas e se compostas separadas por underscore \n",
    "\n",
    "x = 0\n",
    "variavel = 0\n",
    "variavel_composta = 0"
   ]
  },
  {
   "cell_type": "markdown",
   "metadata": {},
   "source": [
    "## Constantes"
   ]
  },
  {
   "cell_type": "code",
   "execution_count": null,
   "metadata": {},
   "outputs": [],
   "source": [
    "# Letras maiúsculas e separadas por underscore se compostas\n",
    "\n",
    "ACELERACAO_GRAVIDADE = 9.8"
   ]
  },
  {
   "cell_type": "markdown",
   "metadata": {},
   "source": [
    "## Funções"
   ]
  },
  {
   "cell_type": "code",
   "execution_count": null,
   "metadata": {},
   "outputs": [],
   "source": [
    "# Letras minúsculas e se compostas separadas por undescore (e nunca letras únicas como x ou z)\n",
    "\n",
    "def function():\n",
    "    pass\n",
    "def function_composite():\n",
    "    pass"
   ]
  },
  {
   "cell_type": "markdown",
   "metadata": {},
   "source": [
    "## Classes"
   ]
  },
  {
   "cell_type": "code",
   "execution_count": null,
   "metadata": {},
   "outputs": [],
   "source": [
    "# CamelCase\n",
    "\n",
    "class MinhaClasse:\n",
    "    "
   ]
  },
  {
   "cell_type": "markdown",
   "metadata": {},
   "source": [
    "## Módulos"
   ]
  },
  {
   "cell_type": "code",
   "execution_count": null,
   "metadata": {},
   "outputs": [],
   "source": [
    "# Nomes curtos e com underscore\n",
    "\n",
    "meu_modulo.py"
   ]
  },
  {
   "cell_type": "markdown",
   "metadata": {},
   "source": [
    "## Packages"
   ]
  },
  {
   "cell_type": "code",
   "execution_count": null,
   "metadata": {},
   "outputs": [],
   "source": [
    "# Nomes minúsculos curos e sem separação\n",
    "\n",
    "mypackage "
   ]
  }
 ],
 "metadata": {
  "colab": {
   "collapsed_sections": [
    "ZpCQWwrXhUnO",
    "MOmJxYBgjF67",
    "9UIDS7T8mMlb",
    "bQDIFFiXim8j",
    "Z1FNT-Zbhbbv",
    "-Z0diJSfh8-y",
    "X88CSbY2iGwu",
    "kUMGutiC_4bZ",
    "BufbCZ4KIGy8",
    "DB0CYHsSggWU",
    "waETY0Ly3nn1",
    "yR-dAuH7qXCr",
    "sll4KCZrqO-A",
    "mYRAWfMFjgV3",
    "71_a3erSLJ8n",
    "e0fgXqSmMDCP",
    "pmDbu9BDMJFr",
    "PkUgEj-oSPal",
    "Dravi00BVx7k",
    "OAevzsd3V09B",
    "3zbtbCZq2OQY",
    "STobrPbma1Jd",
    "6DY6JN2Ucpaq",
    "4uzj8iD4ZZRK",
    "5WUJjt2bZ35K",
    "fRZa3OmE3_xw",
    "ul3EIsG9fL22",
    "zw1vnU5cfXSG",
    "Fuf54rJWj27T",
    "T-hGAbP3lTK8",
    "FccyCB_p18g2",
    "UJfhX0BRbo5h",
    "KsVRpnmOcT8B",
    "Kk8Ha5QYXokf"
   ],
   "name": "[T] - Python Geral.ipynb",
   "provenance": []
  },
  "kernelspec": {
   "display_name": "Python 3",
   "language": "python",
   "name": "python3"
  },
  "language_info": {
   "codemirror_mode": {
    "name": "ipython",
    "version": 3
   },
   "file_extension": ".py",
   "mimetype": "text/x-python",
   "name": "python",
   "nbconvert_exporter": "python",
   "pygments_lexer": "ipython3",
   "version": "3.7.7"
  }
 },
 "nbformat": 4,
 "nbformat_minor": 4
}
