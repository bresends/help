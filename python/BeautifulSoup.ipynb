{
 "cells": [
  {
   "cell_type": "markdown",
   "metadata": {
    "colab_type": "text",
    "id": "_ZmqGa3qg9eX"
   },
   "source": [
    "## Comandos importantes"
   ]
  },
  {
   "cell_type": "code",
   "execution_count": null,
   "metadata": {
    "colab": {},
    "colab_type": "code",
    "id": "C0hCVJeog8GA"
   },
   "outputs": [],
   "source": [
    "# Achar texto \n",
    "soup.body.findAll(text='Python')\n",
    "\n",
    "# Achar classe CSS e pegar valor de elemento\n",
    "soup.find_all('p', class_='data lastcolumn')[30].get_text()\n",
    "\n",
    "# Achar HTML e pegar valor de elmento\n",
    "soup.h2.get_text()\n",
    "soup.title.get_text()\n",
    "\n",
    "# Pra ver o elemento tem que dar print no prettify \n",
    "print(bs4_obj.prettify()) "
   ]
  },
  {
   "cell_type": "markdown",
   "metadata": {
    "colab_type": "text",
    "id": "WaXBHbPxaJr9"
   },
   "source": [
    "### Função para 1 única url"
   ]
  },
  {
   "cell_type": "markdown",
   "metadata": {
    "colab_type": "text",
    "id": "qyH94b2K9NHw"
   },
   "source": [
    "## Função com Querry\n",
    "Pega uma URL e uma Querry e devolve o BS4"
   ]
  },
  {
   "cell_type": "code",
   "execution_count": 3,
   "metadata": {},
   "outputs": [
    {
     "name": "stdout",
     "output_type": "stream",
     "text": [
      "Analisando a página https://finance.yahoo.com/quote/aa/\n",
      " BS4 criado com sucesso\n"
     ]
    }
   ],
   "source": [
    "import requests\n",
    "from bs4 import BeautifulSoup\n",
    "\n",
    "# Função\n",
    "  # Recebe URL !!! com chaves !!! e uma querry \n",
    "  # Cria a URL dentro de si\n",
    "  # Retorna Beautifousup \n",
    "\n",
    "def querry_url_bs4(url_base, query):\n",
    "\n",
    "    # Forma a URL verificando se está com o querry \n",
    "    if '{}' in url_base:\n",
    "        url = url_base.replace('{}', query)\n",
    "\n",
    "        # Formando o Header \n",
    "        header = {\"User-Agent\": \"Mozilla/5.0 (X11; Linux x86_64) AppleWebKit/537.36 (KHTML, like Gecko) Chrome/50.0.2661.75 Safari/537.36\",\n",
    "            \"X-Requested-With\": \"XMLHttpRequest\"}\n",
    "        \n",
    "        # Testando a URL \n",
    "        try:\n",
    "            print(f'Analisando a página {url}')\n",
    "            page = requests.get(url, headers = header, timeout=5)\n",
    "            \n",
    "            # Se a página carregou mas não deu 200 mostra o erro e Fala que o Soup é Falso\n",
    "            if page.status_code != 200:\n",
    "                print(f'A requisição da página {url} retornou o erro {page.status_code}')\n",
    "                soup = False\n",
    "                \n",
    "            # Se o retorno foi 200, cria o BS4\n",
    "            else:\n",
    "                soup = BeautifulSoup(page.text, 'lxml')\n",
    "                print(f' BS4 criado com sucesso')\n",
    "                \n",
    "        except Exception as erro:\n",
    "            print(f'Ao tentar pegar a URL tivemos o erro [{erro}]')\n",
    "            \n",
    "    else:\n",
    "        print(f'O caracter \"{{}}\" não foi encontrado na URL = {url_base}. Refaça sua URL')\n",
    "        soup = False\n",
    "\n",
    "    return soup\n",
    "\n",
    "# !!!!!!!!!!!!!!!! Colocar Entre Chaves todos os lugares onde tem que trocar a querry) \n",
    "a = querry_url_bs4('https://finance.yahoo.com/quote/{}/','aa')"
   ]
  },
  {
   "cell_type": "markdown",
   "metadata": {
    "colab_type": "text",
    "id": "Wiygh-DD79UW"
   },
   "source": [
    "### Manipulando dados"
   ]
  },
  {
   "cell_type": "code",
   "execution_count": null,
   "metadata": {
    "colab": {},
    "colab_type": "code",
    "id": "2wPxEYUpVYUZ"
   },
   "outputs": [],
   "source": [
    "# Puxando a informação HTML para uma variável \n",
    "stock = soup.h2.get_text()"
   ]
  },
  {
   "cell_type": "code",
   "execution_count": null,
   "metadata": {
    "colab": {
     "base_uri": "https://localhost:8080/",
     "height": 34
    },
    "colab_type": "code",
    "executionInfo": {
     "elapsed": 2418,
     "status": "ok",
     "timestamp": 1587123244198,
     "user": {
      "displayName": "Bruno Resende",
      "photoUrl": "https://lh4.googleusercontent.com/-xGllpZMWIRM/AAAAAAAAAAI/AAAAAAAAATo/KyAa1QvSKlc/s64/photo.jpg",
      "userId": "10713419484442461753"
     },
     "user_tz": 180
    },
    "id": "L9N6AvHrYcrn",
    "outputId": "125db110-2036-4ce5-90ea-f50b7f33897c"
   },
   "outputs": [
    {
     "name": "stdout",
     "output_type": "stream",
     "text": [
      "ACHC - Acadia Healthcare Company Inc - Healthcare\n"
     ]
    }
   ],
   "source": [
    "# Puxando um CSS para uma variável \n",
    "sector = soup.find_all(\"span\", class_=\"descricaoaba\")[0].get_text()\n",
    "\n",
    "print(f'{stock} - {sector}')"
   ]
  },
  {
   "cell_type": "code",
   "execution_count": null,
   "metadata": {
    "colab": {
     "base_uri": "https://localhost:8080/",
     "height": 34
    },
    "colab_type": "code",
    "executionInfo": {
     "elapsed": 924,
     "status": "ok",
     "timestamp": 1587123246655,
     "user": {
      "displayName": "Bruno Resende",
      "photoUrl": "https://lh4.googleusercontent.com/-xGllpZMWIRM/AAAAAAAAAAI/AAAAAAAAATo/KyAa1QvSKlc/s64/photo.jpg",
      "userId": "10713419484442461753"
     },
     "user_tz": 180
    },
    "id": "5xFhIcHwr3Nr",
    "outputId": "479f8304-36e0-4754-e1b6-1d4efc4cb052"
   },
   "outputs": [
    {
     "data": {
      "text/plain": [
       "<None></None>"
      ]
     },
     "execution_count": 35,
     "metadata": {
      "tags": []
     },
     "output_type": "execute_result"
    }
   ],
   "source": [
    "# Remover classes de dentro de uma tag\n",
    "last_links = soup.find(class_='descricaoaba')\n",
    "last_links.decompose()"
   ]
  },
  {
   "cell_type": "markdown",
   "metadata": {
    "colab_type": "text",
    "id": "TYnnxjgSlvB8"
   },
   "source": [
    "## Script que lê tabela de várias páginas gera CSS"
   ]
  },
  {
   "cell_type": "code",
   "execution_count": null,
   "metadata": {
    "colab": {
     "base_uri": "https://localhost:8080/",
     "height": 68
    },
    "colab_type": "code",
    "executionInfo": {
     "elapsed": 6693,
     "status": "ok",
     "timestamp": 1587247293349,
     "user": {
      "displayName": "Bruno Resende",
      "photoUrl": "https://lh4.googleusercontent.com/-xGllpZMWIRM/AAAAAAAAAAI/AAAAAAAAATo/KyAa1QvSKlc/s64/photo.jpg",
      "userId": "10713419484442461753"
     },
     "user_tz": 180
    },
    "id": "0EqPMNCrlzuX",
    "outputId": "6158dc24-3bc1-4120-db38-b1d410dc3740"
   },
   "outputs": [
    {
     "name": "stdout",
     "output_type": "stream",
     "text": [
      "Requirement already satisfied: lxml in /usr/local/lib/python3.6/dist-packages (4.2.6)\n",
      "Requirement already satisfied: bs4 in /usr/local/lib/python3.6/dist-packages (0.0.1)\n",
      "Requirement already satisfied: beautifulsoup4 in /usr/local/lib/python3.6/dist-packages (from bs4) (4.6.3)\n"
     ]
    }
   ],
   "source": [
    "!pip install lxml \n",
    "!pip install bs4"
   ]
  },
  {
   "cell_type": "code",
   "execution_count": null,
   "metadata": {
    "colab": {},
    "colab_type": "code",
    "id": "3kR-AwTET9j7"
   },
   "outputs": [],
   "source": [
    "import pandas as pd\n",
    "import requests\n",
    "from bs4 import BeautifulSoup\n",
    "from time import sleep\n",
    "from random import randint"
   ]
  },
  {
   "cell_type": "code",
   "execution_count": null,
   "metadata": {
    "colab": {
     "base_uri": "https://localhost:8080/",
     "height": 374
    },
    "colab_type": "code",
    "executionInfo": {
     "elapsed": 681,
     "status": "error",
     "timestamp": 1587246694614,
     "user": {
      "displayName": "Bruno Resende",
      "photoUrl": "https://lh4.googleusercontent.com/-xGllpZMWIRM/AAAAAAAAAAI/AAAAAAAAATo/KyAa1QvSKlc/s64/photo.jpg",
      "userId": "10713419484442461753"
     },
     "user_tz": 180
    },
    "id": "6BN29OjqQJxG",
    "outputId": "a7f0fe8c-3b77-4bf1-c0e5-22838e231b07"
   },
   "outputs": [],
   "source": [
    "#Faço o algoritmo correr nas páginas \"\"\"\" Na quantidade de páginas\"\"\"\n",
    "\n",
    "base_url = \"https://news.ycombinator.com/\"\n",
    "\n",
    "for page in range(10):\n",
    "  \n",
    "  url = f'{base_url}={page}'\n",
    "\n",
    "  # Faço meu requests fingir ser um navegador de verdade\n",
    "\n",
    "  header = {\"User-Agent\": \"Mozilla/5.0 (X11; Linux x86_64) AppleWebKit/537.36 (KHTML, like Gecko) Chrome/50.0.2661.75 Safari/537.36\",\n",
    "  \"X-Requested-With\": \"XMLHttpRequest\"}\n",
    "\n",
    "  requisicao = requests.get(url, headers = header)\n",
    "  df = pd.read_html(requisicao.text)\n",
    "\n",
    "  #Jogar a tabela certa pra virar o DataFrame \n",
    "  df\n",
    "\n",
    "  # Apaga colunas do dataset / Pra tirar as linhas é só trocar o axis pra zero\n",
    "  #df = df.drop(['Price', 'Unnamed: 3'], axis=1)\n",
    "\n",
    "  # Append dos nomes pra lista \n",
    "  with open('trading_bot_us_companies.csv', 'a') as f:\n",
    "      df.to_csv(f, header=False, index=False, encoding='utf-8')\n",
    "\n",
    "  #Tempo de descanso no scrapping\n",
    "  #a = randint(1,3)\n",
    "    \n",
    "  #print('Sleeping for {} seconds'.format(a))\n",
    "  print('Page {} added to csv file / {} to go'.format(page + 1 , 208 - page)) \n",
    "\n",
    "  #sleep(a)  \n"
   ]
  }
 ],
 "metadata": {
  "colab": {
   "authorship_tag": "ABX9TyORKHlbWga62qPMeT8fa/VV",
   "collapsed_sections": [
    "WaXBHbPxaJr9",
    "qyH94b2K9NHw",
    "TYnnxjgSlvB8"
   ],
   "name": "[T] - BeautifulSoup.ipynb",
   "provenance": []
  },
  "kernelspec": {
   "display_name": "Python 3.8.2 64-bit ('stock_analisys': conda)",
   "language": "python",
   "name": "python38264bitstockanalisysconda9db1a91f3ca64bfaa9da37a4c26b86cf"
  },
  "language_info": {
   "codemirror_mode": {
    "name": "ipython",
    "version": 3
   },
   "file_extension": ".py",
   "mimetype": "text/x-python",
   "name": "python",
   "nbconvert_exporter": "python",
   "pygments_lexer": "ipython3",
   "version": "3.8.2"
  }
 },
 "nbformat": 4,
 "nbformat_minor": 4
}
