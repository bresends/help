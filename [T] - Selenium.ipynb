{
 "cells": [
  {
   "cell_type": "markdown",
   "metadata": {},
   "source": [
    "# Importação das Bibliotecas"
   ]
  },
  {
   "cell_type": "code",
   "execution_count": 23,
   "metadata": {},
   "outputs": [],
   "source": [
    "from selenium import webdriver\n",
    "from selenium.webdriver.common.keys import Keys"
   ]
  },
  {
   "cell_type": "markdown",
   "metadata": {},
   "source": [
    "# Abrindo e Fechando o Navegador"
   ]
  },
  {
   "cell_type": "code",
   "execution_count": 15,
   "metadata": {},
   "outputs": [],
   "source": [
    "# Instanciando \n",
    "driver = webdriver.Chrome('./chromedriver')\n",
    "\n",
    "# Fechando navegador\n",
    "driver.quit()\n",
    "\n",
    "# Fechando Guia\n",
    "drive.close()\n",
    "\n",
    "# Minimizando e maximizando \n",
    "driver.maximize_window()\n",
    "driver.minimize_window()"
   ]
  },
  {
   "cell_type": "markdown",
   "metadata": {},
   "source": [
    "# Abrindo uma página"
   ]
  },
  {
   "cell_type": "code",
   "execution_count": null,
   "metadata": {},
   "outputs": [],
   "source": [
    "driver.get('http://google.com.br')"
   ]
  },
  {
   "cell_type": "markdown",
   "metadata": {},
   "source": [
    "# Capturando Informações"
   ]
  },
  {
   "cell_type": "code",
   "execution_count": null,
   "metadata": {},
   "outputs": [],
   "source": [
    "# HTML da página toda\n",
    "drive.page_source"
   ]
  },
  {
   "cell_type": "code",
   "execution_count": null,
   "metadata": {},
   "outputs": [],
   "source": [
    "# Título da página\n",
    "drive.title"
   ]
  },
  {
   "cell_type": "code",
   "execution_count": null,
   "metadata": {},
   "outputs": [],
   "source": [
    "# URL da página atual \n",
    "driver.current_url"
   ]
  },
  {
   "cell_type": "markdown",
   "metadata": {},
   "source": [
    "# Navegando as páginas"
   ]
  },
  {
   "cell_type": "markdown",
   "metadata": {},
   "source": [
    "## Back and Foward"
   ]
  },
  {
   "cell_type": "code",
   "execution_count": null,
   "metadata": {},
   "outputs": [],
   "source": [
    "driver.back()\n",
    "driver.foward()"
   ]
  },
  {
   "cell_type": "markdown",
   "metadata": {},
   "source": [
    "## Clicando em um botão"
   ]
  },
  {
   "cell_type": "code",
   "execution_count": null,
   "metadata": {},
   "outputs": [],
   "source": [
    "# Inspeciona elemento, pega Xpah\n",
    "\n",
    "driver.find_element_by_xpath('//*[@id=\"ctl00_mainContent_txtLogin\"]') # Tem que trocar as double cotes por singles"
   ]
  },
  {
   "cell_type": "markdown",
   "metadata": {},
   "source": [
    "## Escrevendo dentro de um Form "
   ]
  },
  {
   "cell_type": "code",
   "execution_count": null,
   "metadata": {},
   "outputs": [],
   "source": [
    "driver.find_element_by_xpath('//*[@id=\"ctl00_mainContent_txtLogin\"]').send_keys('brunoresende')"
   ]
  },
  {
   "cell_type": "markdown",
   "metadata": {},
   "source": [
    "## Rolando a página"
   ]
  },
  {
   "cell_type": "code",
   "execution_count": null,
   "metadata": {},
   "outputs": [],
   "source": [
    "# Um tanto de pixels \n",
    "driver.execute_script(\"window.scrollBy(0,500)\",\"\")\n",
    "\n",
    "# Até um elemento selecionado \n",
    "elemento_na_pagina = driver.find_element_by_xpath(\"...\")\n",
    "driver.execute_script(\"arguments[0].scrollIntoView();\", elemento_na_pagina)\n",
    "\n",
    "# Até o fim da página \n",
    "driver.execute_script(\"window.scrollBy(0, document.body.scrollHeight)\")\n"
   ]
  },
  {
   "cell_type": "markdown",
   "metadata": {},
   "source": [
    "# Verifcando a existencia de um elemento na página"
   ]
  },
  {
   "cell_type": "code",
   "execution_count": null,
   "metadata": {},
   "outputs": [],
   "source": [
    "# Idenfica o elemento\n",
    "\n",
    "element = driver.find_element_by_name(\"userName\")\n",
    "\n",
    "element.is_displayed() # Retorna booleano se o elemento está sendo mostrado\n",
    "element.is_enabled() "
   ]
  },
  {
   "cell_type": "markdown",
   "metadata": {},
   "source": [
    "# Encontrando elementos"
   ]
  },
  {
   "cell_type": "code",
   "execution_count": null,
   "metadata": {},
   "outputs": [],
   "source": [
    "# Pelo id (Se o elemento não for encontrado uma exception é gerada)\n",
    "find_element_by_id('<id>')"
   ]
  },
  {
   "cell_type": "code",
   "execution_count": null,
   "metadata": {},
   "outputs": [],
   "source": [
    "# Encontrar elemento pelo atributo name\n",
    "find_element_by_name('<name>')"
   ]
  },
  {
   "cell_type": "code",
   "execution_count": null,
   "metadata": {},
   "outputs": [],
   "source": [
    "# Encontrar elemento pelo texto do link\n",
    "find_element_by_link_text('<text>')"
   ]
  },
  {
   "cell_type": "code",
   "execution_count": null,
   "metadata": {},
   "outputs": [],
   "source": [
    "# Encontrar elemento pelo seu seletor css\n",
    "find_element_by_css_selector('<css_selector>')"
   ]
  },
  {
   "cell_type": "code",
   "execution_count": null,
   "metadata": {},
   "outputs": [],
   "source": [
    "# Encontrar elementos pelo nome da tag\n",
    "find_elements_by_tag_name('<tag_name>')"
   ]
  },
  {
   "cell_type": "code",
   "execution_count": null,
   "metadata": {},
   "outputs": [],
   "source": [
    "# Encontrar elementos pela classe (não tendo nada gera uma lista vazia)\n",
    "find_elements_by_class_name('<class_name>')"
   ]
  },
  {
   "cell_type": "markdown",
   "metadata": {},
   "source": [
    "# Waiting "
   ]
  },
  {
   "cell_type": "markdown",
   "metadata": {},
   "source": [
    "## Implítico"
   ]
  },
  {
   "cell_type": "code",
   "execution_count": null,
   "metadata": {},
   "outputs": [],
   "source": [
    "# Por exemplo. Esperar até o título estar carregado\n",
    "\n",
    "driver.get('bastter/stock') # Vai abrir a página \n",
    "\n",
    "driver.implicitly_wait(10) # E esperar essa quantidade de tempo\n",
    "\n",
    "driver.find_element_by_name('Watever').send_keys('...')"
   ]
  },
  {
   "cell_type": "markdown",
   "metadata": {},
   "source": [
    "# Exemplo de uso \n",
    "> Puxando e printando links e posts de um site"
   ]
  },
  {
   "cell_type": "code",
   "execution_count": 22,
   "metadata": {},
   "outputs": [
    {
     "name": "stdout",
     "output_type": "stream",
     "text": [
      "Título Criando um CI de uma aplicação Django usando Github Actions, \n",
      " Link: http://pythonclub.com.br/django-ci-github-actions.html\n",
      "Título Criando dicts a partir de outros dicts, \n",
      " Link: http://pythonclub.com.br/crie_dict-a-partir-de-outros-dicts.html\n",
      "Título Tutorial Django 2.2, \n",
      " Link: http://pythonclub.com.br/tutorial-django-2.html\n",
      "Título Algoritmos de Ordenação, \n",
      " Link: http://pythonclub.com.br/algoritmos-ordenacao.html\n",
      "Título Trabalhando com operadores ternários, \n",
      " Link: http://pythonclub.com.br/trabalhando-com-operadores-ternarios.html\n",
      "Título Upload de Arquivos com Socket e Struct, \n",
      " Link: http://pythonclub.com.br/upload-de-arquivos-com-socket-e-struct.html\n",
      "Título Monitorando Ips Duplicados na Rede, \n",
      " Link: http://pythonclub.com.br/monitorando-ips-duplicados-na-rede.html\n",
      "Título Django Rest Framework - #3 Class Based Views, \n",
      " Link: http://pythonclub.com.br/django-rest-framework-class-based-views.html\n",
      "Título Django Rest Framework - #2 Requests and Responses, \n",
      " Link: http://pythonclub.com.br/django-rest-framework-requests-responses.html\n",
      "Título Programação funcional com Python #2 - Iteraveis e iteradores, \n",
      " Link: http://pythonclub.com.br/progrmacao-funcional-com-python-2.html\n"
     ]
    }
   ],
   "source": [
    "from selenium import webdriver\n",
    "\n",
    "# Criar instância do navegador\n",
    "driver = webdriver.Chrome('./chromedriver')\n",
    "\n",
    "# Abrir a página do Python Club\n",
    "driver.get('http://pythonclub.com.br/')\n",
    "\n",
    "# Seleciono todos os elementos que possuem a class post\n",
    "posts = driver.find_elements_by_class_name('post')\n",
    "\n",
    "# Para cada post printar as informações\n",
    "for post in posts:\n",
    "\n",
    "    # O elemento `a` com a class `post-title`\n",
    "    # contém todas as informações que queremos mostrar\n",
    "    post_title = post.find_element_by_class_name('post-title')\n",
    "\n",
    "    # `get_attribute` serve para extrair qualquer atributo do elemento\n",
    "    post_link = post_title.get_attribute('href')\n",
    "\n",
    "    # printar informações\n",
    "    titulo = post_title.text\n",
    "    link = post_link\n",
    "    print(f'Título {titulo}, \\n Link: {link}')\n",
    "\n",
    "# Fechar navegador\n",
    "driver.quit()"
   ]
  },
  {
   "cell_type": "markdown",
   "metadata": {},
   "source": [
    "# Cookies"
   ]
  },
  {
   "cell_type": "code",
   "execution_count": null,
   "metadata": {},
   "outputs": [],
   "source": [
    "# Salvando os cookies da sessão (com a página logada)\n",
    "\n",
    "import pickle\n",
    "import selenium.webdriver\n",
    "\n",
    "driver = selenium.webdriver.Chrome()\n",
    "driver.get(\"https://bastter.com/mercado/cadastro\") \n",
    "pickle.dump( driver.get_cookies() , open(\"cookies.pkl\",\"wb\"))"
   ]
  },
  {
   "cell_type": "code",
   "execution_count": null,
   "metadata": {},
   "outputs": [],
   "source": [
    "# Carregando os cookies numa sessão posterior \n",
    "\n",
    "import pickle\n",
    "import selenium.webdriver \n",
    "\n",
    "driver = selenium.webdriver.Chrome()\n",
    "driver.get(\"https://bastter.com/mercado/cadastro\") \n",
    "\n",
    "for cookie in pickle.load(open(\"cookies.pkl\", \"rb\")):\n",
    "    if 'expiry' in cookie:\n",
    "        del cookie['expiry']\n",
    "    driver.add_cookie(cookie)"
   ]
  }
 ],
 "metadata": {
  "kernelspec": {
   "display_name": "Python 3",
   "language": "python",
   "name": "python3"
  },
  "language_info": {
   "codemirror_mode": {
    "name": "ipython",
    "version": 3
   },
   "file_extension": ".py",
   "mimetype": "text/x-python",
   "name": "python",
   "nbconvert_exporter": "python",
   "pygments_lexer": "ipython3",
   "version": "3.7.7"
  }
 },
 "nbformat": 4,
 "nbformat_minor": 4
}
