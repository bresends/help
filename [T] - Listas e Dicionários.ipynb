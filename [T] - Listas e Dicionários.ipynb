{
 "cells": [
  {
   "cell_type": "markdown",
   "metadata": {
    "colab_type": "text",
    "id": "71_a3erSLJ8n"
   },
   "source": [
    "# Listas"
   ]
  },
  {
   "cell_type": "markdown",
   "metadata": {
    "colab_type": "text",
    "id": "e0fgXqSmMDCP"
   },
   "source": [
    "## Adicionando itens"
   ]
  },
  {
   "cell_type": "code",
   "execution_count": null,
   "metadata": {
    "colab": {},
    "colab_type": "code",
    "id": "MkhNSyxmLN8Q"
   },
   "outputs": [],
   "source": [
    "# Adicionando item em uma lista no final / Posso por uma lista também\n",
    "lanche = ['pão', 'pudim', 'broa']\n",
    "lanche.append('bolo') ('Cuidado! A lista é mutável, portanto eu não posso fazer a = a.appen(...). É só isso aí mesmo...')\n",
    "\n",
    "\n",
    "# Adicionando item em uma lista num lugar específico \n",
    "lanche.insert(0,'pão de queijo') # dá a posição e depois o item a ser adicionado"
   ]
  },
  {
   "cell_type": "code",
   "execution_count": null,
   "metadata": {
    "colab": {
     "base_uri": "https://localhost:8080/",
     "height": 51
    },
    "colab_type": "code",
    "executionInfo": {
     "elapsed": 727,
     "status": "ok",
     "timestamp": 1587472453215,
     "user": {
      "displayName": "Bruno Resende",
      "photoUrl": "https://lh4.googleusercontent.com/-xGllpZMWIRM/AAAAAAAAAAI/AAAAAAAAATo/KyAa1QvSKlc/s64/photo.jpg",
      "userId": "10713419484442461753"
     },
     "user_tz": 180
    },
    "id": "55hdtRnnuWxT",
    "outputId": "0e21bf40-a6ce-4367-9b60-05ee585073e8"
   },
   "outputs": [
    {
     "name": "stdout",
     "output_type": "stream",
     "text": [
      "['sorvete', ['pão de queijo', 'pão', 'pudim', 'broa', 'bolo']]\n",
      "['sorvete', 'pão de queijo', 'pão', 'pudim', 'broa', 'bolo']\n"
     ]
    }
   ],
   "source": [
    "# Adicionando uma lista dentro de outra lista, mas como elementos individuais, não outra lista\n",
    "\n",
    "# Assim joga a lista\n",
    "sobremesa = ['sorvete']\n",
    "sobremesa.append(lanche)\n",
    "print(sobremesa)\n",
    "\n",
    "# Assim joga só os valores\n",
    "sobremesa = ['sorvete']\n",
    "sobremesa.extend(lanche)\n",
    "print(sobremesa)"
   ]
  },
  {
   "cell_type": "markdown",
   "metadata": {
    "colab_type": "text",
    "id": "pmDbu9BDMJFr"
   },
   "source": [
    "## Apagando itens"
   ]
  },
  {
   "cell_type": "code",
   "execution_count": null,
   "metadata": {
    "colab": {},
    "colab_type": "code",
    "id": "P0jo_ROpvN7c"
   },
   "outputs": [],
   "source": [
    "## Apagando pelo conteúdo ##\n",
    "# Aqui ele vai na lista e remove o item que vc desejar (independente da posição do mesmo)\n",
    "\n",
    "lanche.remove('broa')\n",
    "print(lanche)\n",
    "\n",
    "# Checando se o item está na lista antes de apagar pra não dar erro\n",
    "if 'pudim' in lanche:\n",
    "  lanche.remove('pudim')\n",
    "print(lanche)"
   ]
  },
  {
   "cell_type": "code",
   "execution_count": null,
   "metadata": {
    "colab": {
     "base_uri": "https://localhost:8080/"
    },
    "colab_type": "code",
    "executionInfo": {
     "elapsed": 902,
     "status": "ok",
     "timestamp": 1587464092138,
     "user": {
      "displayName": "Bruno Resende",
      "photoUrl": "https://lh4.googleusercontent.com/-xGllpZMWIRM/AAAAAAAAAAI/AAAAAAAAATo/KyAa1QvSKlc/s64/photo.jpg",
      "userId": "10713419484442461753"
     },
     "user_tz": 180
    },
    "id": "drfgtu7mMMky",
    "outputId": "65d48e25-d893-4bbc-ab33-aa36ac85d350"
   },
   "outputs": [
    {
     "name": "stdout",
     "output_type": "stream",
     "text": [
      "['pão de queijo', 'pão', 'pudim', 'broa', 'bolo']\n",
      "['pão', 'pudim', 'broa', 'bolo']\n",
      "['pudim', 'broa', 'bolo']\n",
      "['pudim', 'bolo']\n",
      "['bolo']\n"
     ]
    }
   ],
   "source": [
    "## Apagando pelo índice ##\n",
    "\n",
    "# Nesse caso é interessante pq cada vez que vc usar o comando ele tira por exemplo o primeir item da lista...\n",
    "\n",
    "# Lista original \n",
    "print(lanche)\n",
    "\n",
    "# Pop\n",
    "lanche.pop(0) #se estiver sem o índice, ele remove o último elemento da lista\n",
    "print(lanche)\n",
    "\n",
    "# Del\n",
    "del lanche[0]\n",
    "print(lanche)"
   ]
  },
  {
   "cell_type": "code",
   "execution_count": null,
   "metadata": {
    "colab": {
     "base_uri": "https://localhost:8080/"
    },
    "colab_type": "code",
    "executionInfo": {
     "elapsed": 1173,
     "status": "ok",
     "timestamp": 1587464769239,
     "user": {
      "displayName": "Bruno Resende",
      "photoUrl": "https://lh4.googleusercontent.com/-xGllpZMWIRM/AAAAAAAAAAI/AAAAAAAAATo/KyAa1QvSKlc/s64/photo.jpg",
      "userId": "10713419484442461753"
     },
     "user_tz": 180
    },
    "id": "KZSV-9BLRBV5",
    "outputId": "996fba04-cac9-42cf-e032-ff20ecde486f"
   },
   "outputs": [
    {
     "name": "stdout",
     "output_type": "stream",
     "text": [
      "Na posição [0] temos o item [bolo] \n"
     ]
    }
   ],
   "source": [
    "# Fazendo um loop mostrandos os indices \n",
    "\n",
    "for index, item in enumerate(lanche):\n",
    "  print(f'Na posição [{index}] temos o item [{item}] ')"
   ]
  },
  {
   "cell_type": "markdown",
   "metadata": {
    "colab_type": "text",
    "id": "PkUgEj-oSPal"
   },
   "source": [
    "## Listas dentro de listas"
   ]
  },
  {
   "cell_type": "code",
   "execution_count": null,
   "metadata": {
    "colab": {
     "base_uri": "https://localhost:8080/",
     "height": 51
    },
    "colab_type": "code",
    "executionInfo": {
     "elapsed": 736,
     "status": "ok",
     "timestamp": 1587465483415,
     "user": {
      "displayName": "Bruno Resende",
      "photoUrl": "https://lh4.googleusercontent.com/-xGllpZMWIRM/AAAAAAAAAAI/AAAAAAAAATo/KyAa1QvSKlc/s64/photo.jpg",
      "userId": "10713419484442461753"
     },
     "user_tz": 180
    },
    "id": "fB8BsMumSR-p",
    "outputId": "46968992-2e78-437c-8410-dd4b38a03a41"
   },
   "outputs": [
    {
     "name": "stdout",
     "output_type": "stream",
     "text": [
      "João\n",
      "20\n"
     ]
    }
   ],
   "source": [
    "# Faz mais sentido usar dicionários obviamente \n",
    "# Incializa a lista pessoas \n",
    "pessoas = [ ['João',21] , ['Bruno', 20] ]\n",
    "\n",
    "dados = ['Maria', 25]\n",
    "\n",
    "# Joga todos os elementos da lista dados dentro da lista pessoas\n",
    "pessoas.append(dados[:]) \n",
    "pessoas\n",
    "\n",
    "# Mostrando elementos da lista dentro da lista\n",
    "print(pessoas[0][0])\n",
    "print(pessoas[1][1])\n"
   ]
  },
  {
   "cell_type": "markdown",
   "metadata": {},
   "source": [
    "## Aplicando Funções [List Comprehension são mais Pythonicas]"
   ]
  },
  {
   "cell_type": "code",
   "execution_count": 10,
   "metadata": {},
   "outputs": [
    {
     "name": "stdout",
     "output_type": "stream",
     "text": [
      "[2, 4, 6, 8, 10]\n"
     ]
    }
   ],
   "source": [
    "items = [1, 2, 3, 4 ,5]\n",
    "\n",
    "double = list(map(lambda x: x*2, items))\n",
    "print(double)"
   ]
  },
  {
   "cell_type": "markdown",
   "metadata": {},
   "source": [
    "## List Compreension\n",
    "https://pythonacademy.com.br/blog/list-comprehensions-no-python"
   ]
  },
  {
   "cell_type": "markdown",
   "metadata": {},
   "source": [
    "### Lógica \n",
    "\n",
    "```\n",
    "[expressão for membro in lista]\n",
    "```\n",
    "\n",
    "\n",
    "Em outras palavras: aplique a expressão em cada item da lista."
   ]
  },
  {
   "cell_type": "markdown",
   "metadata": {},
   "source": [
    "### Aplicação Matemática - Fazendo multiplicação por 2 (igual no lambda)"
   ]
  },
  {
   "cell_type": "code",
   "execution_count": 6,
   "metadata": {},
   "outputs": [
    {
     "name": "stdout",
     "output_type": "stream",
     "text": [
      "[2, 4, 6, 8, 10]\n",
      "[(1, 0), (1, 1), (1, 2), (2, 0), (2, 1), (2, 2), (3, 0), (3, 1), (3, 2), (4, 0), (4, 1), (4, 2), (5, 0), (5, 1), (5, 2)]\n"
     ]
    }
   ],
   "source": [
    "lista_1 = [1, 2, 3, 4 ,5]\n",
    "lista_2 = [item*2 for item in lista_1]\n",
    "print(lista_2)\n",
    "\n",
    "# Fazendo uma tupla com segundo elemento de 1 a 3 com todos os valores da lista original\n",
    "\n",
    "tuplas = [(item, item2) for item in lista_1 for item2 in range(3)]\n",
    "print(tuplas)\n"
   ]
  },
  {
   "cell_type": "markdown",
   "metadata": {},
   "source": [
    "### Trocando todos os us de uma lista de strings"
   ]
  },
  {
   "cell_type": "code",
   "execution_count": 9,
   "metadata": {},
   "outputs": [
    {
     "name": "stdout",
     "output_type": "stream",
     "text": [
      "['Luiz', 'Mauro', 'Maria']\n",
      "['LTXNCHEG@SIZ', 'M@TXNCHEG@SRO', 'M@RI@']\n"
     ]
    }
   ],
   "source": [
    "lista_nomes = ['Luiz','Mauro','Maria']\n",
    "print(lista_nomes)\n",
    "\n",
    "lista_atualizada = [item.replace('u','Txnchegas').replace('a','@').upper() for item in lista_nomes]\n",
    "print(lista_atualizada)"
   ]
  },
  {
   "cell_type": "markdown",
   "metadata": {},
   "source": [
    "### Filtrando uma lista com list comprehension "
   ]
  },
  {
   "cell_type": "code",
   "execution_count": 16,
   "metadata": {},
   "outputs": [
    {
     "name": "stdout",
     "output_type": "stream",
     "text": [
      "[0, 24, 48, 72, 96]\n"
     ]
    }
   ],
   "source": [
    "# Listando todos os números divisíveis por 3 e 8 ao mesmo tempo \n",
    "\n",
    "lista_item = list(range(100))\n",
    "\n",
    "lista_filtrada = [(item) for item in lista_item if item % 3 == 0 if item % 8 == 0]\n",
    "print(lista_filtrada)"
   ]
  },
  {
   "cell_type": "markdown",
   "metadata": {},
   "source": [
    "### Aplicando uma função com list Comprehension "
   ]
  },
  {
   "cell_type": "code",
   "execution_count": 21,
   "metadata": {},
   "outputs": [
    {
     "name": "stdout",
     "output_type": "stream",
     "text": [
      "[0.9810000000000001, 21.204, 52.056000000000004, 4.104, 6.102]\n"
     ]
    }
   ],
   "source": [
    "# Lista\n",
    "prices = [1.09, 23.56, 57.84, 4.56, 6.78]\n",
    "\n",
    "def discount(item):\n",
    "    return item * (0.9)\n",
    "\n",
    "final_prices = [discount(i) for i in prices]\n",
    "print(final_prices)"
   ]
  },
  {
   "cell_type": "markdown",
   "metadata": {
    "colab_type": "text",
    "id": "Dravi00BVx7k"
   },
   "source": [
    "# Dicionários\n",
    "Melhor site: https://realpython.com/iterate-through-dictionary-python/"
   ]
  },
  {
   "cell_type": "markdown",
   "metadata": {
    "colab_type": "text",
    "id": "OAevzsd3V09B"
   },
   "source": [
    "## Explicação de como é a lógica de um dicionário"
   ]
  },
  {
   "cell_type": "code",
   "execution_count": null,
   "metadata": {
    "colab": {
     "base_uri": "https://localhost:8080/",
     "height": 85
    },
    "colab_type": "code",
    "executionInfo": {
     "elapsed": 644,
     "status": "ok",
     "timestamp": 1587474964800,
     "user": {
      "displayName": "Bruno Resende",
      "photoUrl": "https://lh4.googleusercontent.com/-xGllpZMWIRM/AAAAAAAAAAI/AAAAAAAAATo/KyAa1QvSKlc/s64/photo.jpg",
      "userId": "10713419484442461753"
     },
     "user_tz": 180
    },
    "id": "AaqqiUCLXpId",
    "outputId": "a48a07ab-1c75-4d80-b0e4-635fbeecde65"
   },
   "outputs": [
    {
     "name": "stdout",
     "output_type": "stream",
     "text": [
      "['Pedro', 25] ['Joao', 20]\n",
      "Pedro Joao\n",
      "{'nome': 'Pedro', 'idade': 25}\n",
      "Maria Joao\n"
     ]
    }
   ],
   "source": [
    "# O dicionário é uma lista de listas também. Mas a diferença é que eu dou nome pro índice. #\n",
    "\n",
    "# Lista\n",
    "pessoas = [['Pedro',25],['Joao',20]]\n",
    "\n",
    "# Pra acessar o elemento eu puxo o índice da lista pessoas e depois do elemento\n",
    "print(pessoas[0], pessoas[1])\n",
    "print(pessoas[0][0], pessoas[1][0])\n",
    "\n",
    "# No dicionário já vira o seguinte (fazendo o nesting dentro de uma lista)\n",
    "# Nesse sentido podemos pensar em uma tabela, onde o index é o número de elemento da lista e as colunas são as keys dos dicionários dentro dessa lista\n",
    "pessoas_listdict = [{'nome':'Pedro','idade':25},{'nome':'Joao','idade':25}]\n",
    "\n",
    "\n",
    "# Aí agora eu não tenho mais pessoas[0][0], mas sim pessoas['nome']\n",
    "print(pessoas_listdict[0])\n",
    "print(pessoas_dict[0]['nome'], pessoas_dict[1]['nome'])"
   ]
  },
  {
   "cell_type": "markdown",
   "metadata": {
    "colab_type": "text",
    "id": "3zbtbCZq2OQY"
   },
   "source": [
    "## Acessando um dicionário"
   ]
  },
  {
   "cell_type": "code",
   "execution_count": null,
   "metadata": {
    "colab": {
     "base_uri": "https://localhost:8080/",
     "height": 51
    },
    "colab_type": "code",
    "executionInfo": {
     "elapsed": 1198,
     "status": "ok",
     "timestamp": 1587474666852,
     "user": {
      "displayName": "Bruno Resende",
      "photoUrl": "https://lh4.googleusercontent.com/-xGllpZMWIRM/AAAAAAAAAAI/AAAAAAAAATo/KyAa1QvSKlc/s64/photo.jpg",
      "userId": "10713419484442461753"
     },
     "user_tz": 180
    },
    "id": "JmTIiE5j21Fu",
    "outputId": "cd6e1026-94b1-4fb1-f952-3f560d0d1353"
   },
   "outputs": [
    {
     "name": "stdout",
     "output_type": "stream",
     "text": [
      "Pedro\n",
      "Pedro\n"
     ]
    }
   ],
   "source": [
    "# Posso puxar direto\n",
    "print(pessoas_dict[0]['nome'])\n",
    "\n",
    "# ou usar o método .get()\n",
    "print(pessoas_dict[0].get('nome'))\n",
    "\n",
    "# Vantagem do get é que se a key não existir, ele retorna none mas não dá erro"
   ]
  },
  {
   "cell_type": "code",
   "execution_count": null,
   "metadata": {
    "colab": {},
    "colab_type": "code",
    "id": "eJCilcgQPmb6"
   },
   "outputs": [],
   "source": [
    "# Mostrandos os itens de um dicionário\n",
    "\n",
    "dictionary.items()"
   ]
  },
  {
   "cell_type": "markdown",
   "metadata": {
    "colab_type": "text",
    "id": "STobrPbma1Jd"
   },
   "source": [
    "## Criando um dicionário "
   ]
  },
  {
   "cell_type": "code",
   "execution_count": null,
   "metadata": {
    "colab": {},
    "colab_type": "code",
    "id": "htdVomQra3Q6"
   },
   "outputs": [],
   "source": [
    "filmes = {\n",
    "    'nome':'Pulp Fiction',\n",
    "    'ano': 1990,\n",
    "    'genero':'ação'\n",
    "}"
   ]
  },
  {
   "cell_type": "markdown",
   "metadata": {
    "colab_type": "text",
    "id": "6DY6JN2Ucpaq"
   },
   "source": [
    "## Acessando dados do dicionário"
   ]
  },
  {
   "cell_type": "code",
   "execution_count": null,
   "metadata": {
    "colab": {
     "base_uri": "https://localhost:8080/",
     "height": 68
    },
    "colab_type": "code",
    "executionInfo": {
     "elapsed": 786,
     "status": "ok",
     "timestamp": 1587468266105,
     "user": {
      "displayName": "Bruno Resende",
      "photoUrl": "https://lh4.googleusercontent.com/-xGllpZMWIRM/AAAAAAAAAAI/AAAAAAAAATo/KyAa1QvSKlc/s64/photo.jpg",
      "userId": "10713419484442461753"
     },
     "user_tz": 180
    },
    "id": "0_5_Tw7NcuOT",
    "outputId": "9e84b50b-e7d1-4695-fd3f-7726a0548ded"
   },
   "outputs": [
    {
     "name": "stdout",
     "output_type": "stream",
     "text": [
      "dict_keys(['nome', 'ano', 'genero'])\n",
      "dict_values(['Pulp Fiction', 1990, 'ação'])\n",
      "dict_items([('nome', 'Pulp Fiction'), ('ano', 1990), ('genero', 'ação')])\n"
     ]
    }
   ],
   "source": [
    "# Questão Fundamental. Pra pegar os valores de vários dicionários ele tem que estar dentro de outra coisa. \n",
    "  # Pode ser uma lista, ou outro dicionário\n",
    "  \n",
    "# Keys =  Pense nelas como índices de uma tabela\n",
    "print(filmes.keys())\n",
    "\n",
    "# Values = São os valores contidos dentro das keys\n",
    "print(filmes.values())\n",
    "\n",
    "# Items = Soma de cada par de key e value de um dicionário\n",
    "print(filmes.items())"
   ]
  },
  {
   "cell_type": "markdown",
   "metadata": {
    "colab_type": "text",
    "id": "4uzj8iD4ZZRK"
   },
   "source": [
    "## Adicionando elementos"
   ]
  },
  {
   "cell_type": "code",
   "execution_count": null,
   "metadata": {
    "colab": {
     "base_uri": "https://localhost:8080/",
     "height": 34
    },
    "colab_type": "code",
    "executionInfo": {
     "elapsed": 853,
     "status": "ok",
     "timestamp": 1587467122970,
     "user": {
      "displayName": "Bruno Resende",
      "photoUrl": "https://lh4.googleusercontent.com/-xGllpZMWIRM/AAAAAAAAAAI/AAAAAAAAATo/KyAa1QvSKlc/s64/photo.jpg",
      "userId": "10713419484442461753"
     },
     "user_tz": 180
    },
    "id": "Od8Bf28mZbRN",
    "outputId": "5e623ac6-f8c2-4e69-9a55-d381a25ae794"
   },
   "outputs": [
    {
     "name": "stdout",
     "output_type": "stream",
     "text": [
      "{'nome': 'Pedro', 'idade': 25, 'Sexo': 'M'}\n"
     ]
    }
   ],
   "source": [
    "dados = {'nome':'Pedro','idade':25}\n",
    "\n",
    "#Adicionando uma 'Coluna'\n",
    "dados['Sexo'] = 'M'\n",
    "print(dados)\n"
   ]
  },
  {
   "cell_type": "markdown",
   "metadata": {
    "colab_type": "text",
    "id": "5WUJjt2bZ35K"
   },
   "source": [
    "## Removendo elementos"
   ]
  },
  {
   "cell_type": "code",
   "execution_count": null,
   "metadata": {
    "colab": {},
    "colab_type": "code",
    "id": "Fe_uHhXUZ8jF"
   },
   "outputs": [],
   "source": [
    "# Apenas removendo \n",
    "\n",
    "del dados['idade']\n",
    "print(dados)"
   ]
  },
  {
   "cell_type": "code",
   "execution_count": null,
   "metadata": {
    "colab": {},
    "colab_type": "code",
    "id": "5BYoJFI252KH"
   },
   "outputs": [],
   "source": [
    "# !!! Removendo e salvando o valor ue foi extraído em uma variável !!! (interessante)\n",
    "dados_removidos = dados.pop('key_desjada')"
   ]
  },
  {
   "cell_type": "markdown",
   "metadata": {
    "colab_type": "text",
    "id": "fRZa3OmE3_xw"
   },
   "source": [
    "## Mudando valores Individuais"
   ]
  },
  {
   "cell_type": "code",
   "execution_count": null,
   "metadata": {
    "colab": {
     "base_uri": "https://localhost:8080/",
     "height": 51
    },
    "colab_type": "code",
    "executionInfo": {
     "elapsed": 649,
     "status": "ok",
     "timestamp": 1587475165466,
     "user": {
      "displayName": "Bruno Resende",
      "photoUrl": "https://lh4.googleusercontent.com/-xGllpZMWIRM/AAAAAAAAAAI/AAAAAAAAATo/KyAa1QvSKlc/s64/photo.jpg",
      "userId": "10713419484442461753"
     },
     "user_tz": 180
    },
    "id": "3ZEx3WQP4B0n",
    "outputId": "7706a461-0d56-4a77-b324-ecbd33308ed4"
   },
   "outputs": [
    {
     "name": "stdout",
     "output_type": "stream",
     "text": [
      "[{'nome': 'Sheila', 'idade': '44'}, {'nome': 'Joao', 'idade': 25}]\n",
      "[{'nome': 'Maria', 'idade': '44'}, {'nome': 'Joao', 'idade': 25}]\n"
     ]
    }
   ],
   "source": [
    "# Método 1 - Trocando apenas 1 ítem \n",
    "\n",
    "print(pessoas_dict)\n",
    "pessoas_dict[0]['nome'] = 'Maria'\n",
    "print(pessoas_dict)"
   ]
  },
  {
   "cell_type": "code",
   "execution_count": null,
   "metadata": {
    "colab": {
     "base_uri": "https://localhost:8080/",
     "height": 51
    },
    "colab_type": "code",
    "executionInfo": {
     "elapsed": 658,
     "status": "ok",
     "timestamp": 1587475197684,
     "user": {
      "displayName": "Bruno Resende",
      "photoUrl": "https://lh4.googleusercontent.com/-xGllpZMWIRM/AAAAAAAAAAI/AAAAAAAAATo/KyAa1QvSKlc/s64/photo.jpg",
      "userId": "10713419484442461753"
     },
     "user_tz": 180
    },
    "id": "kmRT9Xum4myC",
    "outputId": "74017d57-3ac5-4831-e90d-4cd76534fe9a"
   },
   "outputs": [
    {
     "name": "stdout",
     "output_type": "stream",
     "text": [
      "[{'nome': 'Tiago', 'idade': '44'}, {'nome': 'Joao', 'idade': 25}]\n",
      "[{'nome': 'Tião', 'idade': '55'}, {'nome': 'Joao', 'idade': 25}]\n"
     ]
    }
   ],
   "source": [
    "# Método 2 Trocando vários itens.\n",
    "# Passo um dicionário com as trocas\n",
    "print(pessoas_dict)\n",
    "pessoas_dict[0].update({'nome':'Tião', 'idade':'55'})\n",
    "print(pessoas_dict)"
   ]
  },
  {
   "cell_type": "markdown",
   "metadata": {
    "colab_type": "text",
    "id": "ul3EIsG9fL22"
   },
   "source": [
    "## Fazendo loops dentro de um dicionário"
   ]
  },
  {
   "cell_type": "code",
   "execution_count": null,
   "metadata": {
    "colab": {
     "base_uri": "https://localhost:8080/",
     "height": 272
    },
    "colab_type": "code",
    "executionInfo": {
     "elapsed": 632,
     "status": "ok",
     "timestamp": 1587469669477,
     "user": {
      "displayName": "Bruno Resende",
      "photoUrl": "https://lh4.googleusercontent.com/-xGllpZMWIRM/AAAAAAAAAAI/AAAAAAAAATo/KyAa1QvSKlc/s64/photo.jpg",
      "userId": "10713419484442461753"
     },
     "user_tz": 180
    },
    "id": "6IqmxEZXffLj",
    "outputId": "29070efd-e0d6-4c51-812c-162d72e6562c"
   },
   "outputs": [
    {
     "name": "stdout",
     "output_type": "stream",
     "text": [
      "Items:\n",
      "A key [nome] tem como valor [Pulp Fiction]\n",
      "A key [ano] tem como valor [1990]\n",
      "A key [genero] tem como valor [ação]\n",
      "------------------------------------\n",
      "Keys:\n",
      "nome\n",
      "ano\n",
      "genero\n",
      "------------------------------------\n",
      "Values:\n",
      "Pulp Fiction\n",
      "1990\n",
      "ação\n",
      "------------------------------------\n"
     ]
    }
   ],
   "source": [
    "# Mostrando todos os items (que são a combinação dos valores de keys e values juntos)\n",
    "\n",
    "print('Items:')\n",
    "for k,v in filmes.items():\n",
    "  print(f'A key [{k}] tem como valor [{v}]')\n",
    "print('------------------------------------')\n",
    "\n",
    "# Mostrando apenas os keys de um dicionário\n",
    "print('Keys:')\n",
    "for k in filmes.keys():\n",
    "  print(k)\n",
    "print('------------------------------------') \n",
    "\n",
    "# Mostrando apenas os values de um dicionário\n",
    "print('Values:')\n",
    "for v in filmes.values():\n",
    "  print(v)\n",
    "print('------------------------------------')"
   ]
  },
  {
   "cell_type": "code",
   "execution_count": 33,
   "metadata": {
    "colab": {},
    "colab_type": "code",
    "id": "yS2cd4opm0gc"
   },
   "outputs": [],
   "source": [
    "# Cria lista com dicionários informativos sobre estados brasileiros\n",
    "brasil = [\n",
    "          {\n",
    "            'Estado':'Rio de Janeiro',\n",
    "            'UF': 'RJ',\n",
    "            'Capital':'Rio de Janeiro'\n",
    "          },\n",
    "\n",
    "          {\n",
    "            'Estado':'Minas Gerais',\n",
    "            'UF': 'MG',\n",
    "            'Capital':'Belo Horizonte'\n",
    "          },\n",
    "\n",
    "          {\n",
    "            'Estado':'Goiás',\n",
    "            'UF': 'GO',\n",
    "            'Capital':'Goiânia'\n",
    "          }\n",
    "\n",
    "]"
   ]
  },
  {
   "cell_type": "code",
   "execution_count": 36,
   "metadata": {
    "colab": {
     "base_uri": "https://localhost:8080/",
     "height": 170
    },
    "colab_type": "code",
    "executionInfo": {
     "elapsed": 645,
     "status": "ok",
     "timestamp": 1587471469351,
     "user": {
      "displayName": "Bruno Resende",
      "photoUrl": "https://lh4.googleusercontent.com/-xGllpZMWIRM/AAAAAAAAAAI/AAAAAAAAATo/KyAa1QvSKlc/s64/photo.jpg",
      "userId": "10713419484442461753"
     },
     "user_tz": 180
    },
    "id": "0jbEZZDtqn43",
    "outputId": "62ebf63c-6b3c-4a10-9818-eaa3d2fee0ba"
   },
   "outputs": [
    {
     "name": "stdout",
     "output_type": "stream",
     "text": [
      "A key [Estado] tem o valor [Rio de Janeiro]\n",
      "A key [UF] tem o valor [RJ]\n",
      "A key [Capital] tem o valor [Rio de Janeiro]\n",
      "A key [Estado] tem o valor [Minas Gerais]\n",
      "A key [UF] tem o valor [MG]\n",
      "A key [Capital] tem o valor [Belo Horizonte]\n",
      "A key [Estado] tem o valor [Goiás]\n",
      "A key [UF] tem o valor [GO]\n",
      "A key [Capital] tem o valor [Goiânia]\n"
     ]
    }
   ],
   "source": [
    "## Mostrando as keys e values de todos os dicionários\n",
    "\n",
    "# Rodo na lista\n",
    "for linha in brasil:\n",
    "  for key,value in linha.items():\n",
    "    print(f'A key [{key}] tem o valor [{value}]')"
   ]
  },
  {
   "cell_type": "code",
   "execution_count": null,
   "metadata": {
    "colab": {
     "base_uri": "https://localhost:8080/",
     "height": 68
    },
    "colab_type": "code",
    "executionInfo": {
     "elapsed": 1042,
     "status": "ok",
     "timestamp": 1587471650967,
     "user": {
      "displayName": "Bruno Resende",
      "photoUrl": "https://lh4.googleusercontent.com/-xGllpZMWIRM/AAAAAAAAAAI/AAAAAAAAATo/KyAa1QvSKlc/s64/photo.jpg",
      "userId": "10713419484442461753"
     },
     "user_tz": 180
    },
    "id": "mTlRn6f6qxfc",
    "outputId": "ba9f7e89-0190-449f-cc12-9b344e75f6e6"
   },
   "outputs": [
    {
     "name": "stdout",
     "output_type": "stream",
     "text": [
      "Rio de Janeiro - RJ - Rio de Janeiro - \n",
      "Minas Gerais - MG - Belo Horizonte - \n",
      "Goiás - GO - Goiânia - \n"
     ]
    }
   ],
   "source": [
    "# Mostrando apenas o values de cada uma das keys\n",
    "# No for o linha representa o dicionário dentro da lista \n",
    "\n",
    "for linha in brasil:\n",
    "  for v in linha.values():\n",
    "    print(v, end=\" - \") # Pra cada um dos dicionários nas linhas da lista ele pega os valores das keys\n",
    "  print() # Quebra de linha"
   ]
  },
  {
   "cell_type": "code",
   "execution_count": null,
   "metadata": {
    "colab": {
     "base_uri": "https://localhost:8080/",
     "height": 68
    },
    "colab_type": "code",
    "executionInfo": {
     "elapsed": 1120,
     "status": "ok",
     "timestamp": 1587471509672,
     "user": {
      "displayName": "Bruno Resende",
      "photoUrl": "https://lh4.googleusercontent.com/-xGllpZMWIRM/AAAAAAAAAAI/AAAAAAAAATo/KyAa1QvSKlc/s64/photo.jpg",
      "userId": "10713419484442461753"
     },
     "user_tz": 180
    },
    "id": "je4DjGBQrIm-",
    "outputId": "d9170a2a-c0fb-4b39-b76e-4a7f076835b7"
   },
   "outputs": [
    {
     "name": "stdout",
     "output_type": "stream",
     "text": [
      "Rio de Janeiro\n",
      "Minas Gerais\n",
      "Goiás\n"
     ]
    }
   ],
   "source": [
    "# Mostrando itens individuais (o nome de casa estados no caso)\n",
    "\n",
    "# Primeiro eu tenho que rodar na lista inteira (como se fosse dizer as linhas da tabela)\n",
    "for linha in brasil:\n",
    "  # Depois eu rodo em cada um dos dicionários (mostrando quais colunas eu quero saber)\n",
    "  print(linha['Estado'])"
   ]
  },
  {
   "cell_type": "markdown",
   "metadata": {},
   "source": [
    "## Dictionary Comprehension "
   ]
  },
  {
   "cell_type": "markdown",
   "metadata": {},
   "source": [
    "### Lógica \n",
    "\n",
    "```\n",
    "{key:value for key,value in dictionary.items()}\n",
    "```\n",
    "Chaves (e não colchetes) key: values for key, value in lista\n"
   ]
  },
  {
   "cell_type": "code",
   "execution_count": 40,
   "metadata": {},
   "outputs": [],
   "source": [
    "lista = [\n",
    "    ('chave_1','valor_1'),\n",
    "    ('chave_2','valor_2'),\n",
    "    ('chave_3','valor_3')\n",
    "]"
   ]
  },
  {
   "cell_type": "markdown",
   "metadata": {},
   "source": [
    "### Aplicando Funções"
   ]
  },
  {
   "cell_type": "code",
   "execution_count": 41,
   "metadata": {},
   "outputs": [
    {
     "name": "stdout",
     "output_type": "stream",
     "text": [
      "{'chave_1': 'VALOR_1', 'chave_2': 'VALOR_2', 'chave_3': 'VALOR_3'}\n"
     ]
    }
   ],
   "source": [
    "dicionário = {key : value.upper() for key,value in lista}\n",
    "print(dicionário)"
   ]
  },
  {
   "cell_type": "markdown",
   "metadata": {},
   "source": [
    "### Operações Matemáticas"
   ]
  },
  {
   "cell_type": "code",
   "execution_count": 29,
   "metadata": {},
   "outputs": [
    {
     "name": "stdout",
     "output_type": "stream",
     "text": [
      "{'aa': 2, 'bb': 4, 'cc': 6, 'dd': 8, 'ee': 10}\n"
     ]
    }
   ],
   "source": [
    "# Dobrando valores de um dicionário \n",
    "\n",
    "dict1 = {'a': 1, 'b': 2, 'c': 3, 'd': 4, 'e': 5}\n",
    "\n",
    "# Comprehension\n",
    "double_dict1 = {k*2:v*2 for (k,v) in dict1.items()}\n",
    "\n",
    "print(double_dict1)"
   ]
  },
  {
   "cell_type": "markdown",
   "metadata": {
    "colab_type": "text",
    "id": "Eyf2_yBESeVF"
   },
   "source": [
    "### Dict Comprehension - Filtrando valores "
   ]
  },
  {
   "cell_type": "code",
   "execution_count": 48,
   "metadata": {
    "colab": {},
    "colab_type": "code",
    "id": "lYSkxcZ6Skyi"
   },
   "outputs": [
    {
     "name": "stdout",
     "output_type": "stream",
     "text": [
      "{'two': 2, 'thee': 3}\n"
     ]
    }
   ],
   "source": [
    "# Retirando do dicionáiro os valores menores que 2\n",
    "\n",
    "a_dict = {'one': 1, 'two': 2, 'thee': 3, 'four': 4}\n",
    "\n",
    "new_dict = {key: value for key, value in a_dict.items() if value <= 3 if value > 1 }\n",
    "print(new_dict)"
   ]
  },
  {
   "cell_type": "code",
   "execution_count": 46,
   "metadata": {
    "colab": {},
    "colab_type": "code",
    "id": "lYSkxcZ6Skyi"
   },
   "outputs": [
    {
     "name": "stdout",
     "output_type": "stream",
     "text": [
      "{'banana': 5000.0, 'apple': 5600.0}\n"
     ]
    }
   ],
   "source": [
    "# Retirando a palavra Orange \n",
    "incomes = {'apple': 5600.00, 'orange': 3500.00, 'banana': 5000.00}\n",
    "\n",
    "non_citric = {key: incomes[key] for key in incomes.keys() - {'orange'}}\n",
    "print(non_citric)"
   ]
  },
  {
   "cell_type": "code",
   "execution_count": 3,
   "metadata": {},
   "outputs": [
    {
     "data": {
      "text/plain": [
       "['apple', 'orange', 'banana']"
      ]
     },
     "execution_count": 3,
     "metadata": {},
     "output_type": "execute_result"
    }
   ],
   "source": [
    "# Com a Função Filtro \n",
    "\n",
    "# Aqui eu passo a função que faz a filtragem e crio !!!UMA LISTA!!! pra aqueles valores que retornaram true\n",
    "\n",
    "prices = {'apple': 0.40, 'orange': 0.35, 'banana': 0.25}\n",
    "\n",
    "def has_low_price(price):\n",
    "    return prices[price]\n",
    "\n",
    "low_price = list(filter(has_low_price, prices.keys()))\n",
    "low_price"
   ]
  },
  {
   "cell_type": "markdown",
   "metadata": {},
   "source": [
    "## Aplicando Funções em um dicionário  map()"
   ]
  },
  {
   "cell_type": "markdown",
   "metadata": {},
   "source": [
    "### O map tem a sintaxe \n",
    "```\n",
    "map(função aplicada, lista de elementos) \n",
    "```\n",
    "\n",
    "!!! Pra dicionários lambda não faz muito sentido. Se usa dict compreensions. Lambda é mais pra listas pras funções do __\"Pandas\"__.!!!"
   ]
  },
  {
   "cell_type": "code",
   "execution_count": 5,
   "metadata": {},
   "outputs": [
    {
     "data": {
      "text/plain": [
       "{'apple': 0.38, 'orange': 0.33, 'banana': 0.24}"
      ]
     },
     "execution_count": 5,
     "metadata": {},
     "output_type": "execute_result"
    }
   ],
   "source": [
    "# Inicializando um dicionário \n",
    "\n",
    "prices = {'apple': 0.40, 'orange': 0.35, 'banana': 0.25}\n",
    "\n",
    "\n",
    "# Definindo a função a ser aplicada \n",
    "# Nesse caso uma função que dá 5% de desconto nos preços e arredonda o resultado\n",
    "\n",
    "def discount(item):\n",
    "    return (item[0], round(item[1] * 0.95, 2))\n",
    "\n",
    "# Aplicando o Map pra fazer a aplicação nos itens\n",
    "# E nesse caso é necessário usar o dict pra criar o novo dicionário que guarda os preços\n",
    "# Nesse caso ele pega a tupla (key, value) e retorna outra tupla (key, new_value)\n",
    "\n",
    "new_prices = dict(map(discount, prices.items()))\n",
    "new_prices"
   ]
  },
  {
   "cell_type": "markdown",
   "metadata": {
    "colab_type": "text",
    "id": "Eyf2_yBESeVF"
   },
   "source": [
    "## Filter - Filtrando valores "
   ]
  },
  {
   "cell_type": "code",
   "execution_count": 3,
   "metadata": {},
   "outputs": [
    {
     "data": {
      "text/plain": [
       "['apple', 'orange', 'banana']"
      ]
     },
     "execution_count": 3,
     "metadata": {},
     "output_type": "execute_result"
    }
   ],
   "source": [
    "# Com a Função Filtro \n",
    "\n",
    "# Aqui eu passo a função que faz a filtragem e crio !!!UMA LISTA!!! pra aqueles valores que retornaram true\n",
    "\n",
    "prices = {'apple': 0.40, 'orange': 0.35, 'banana': 0.25}\n",
    "\n",
    "def has_low_price(price):\n",
    "    return prices[price]\n",
    "\n",
    "low_price = list(filter(has_low_price, prices.keys()))\n",
    "low_price"
   ]
  },
  {
   "cell_type": "markdown",
   "metadata": {
    "colab_type": "text",
    "id": "zw1vnU5cfXSG"
   },
   "source": [
    "## Abrindo um dicionário em json e rodando dentro dele"
   ]
  },
  {
   "cell_type": "code",
   "execution_count": null,
   "metadata": {
    "colab": {},
    "colab_type": "code",
    "id": "QVWbOdQkfKQ_"
   },
   "outputs": [],
   "source": [
    "with open(arquivo.json, 'rb') as json_file:\n",
    "  file = json.load(json_file)\n",
    "\n",
    "for dict in file:\n",
    "  for k,v in dict.items():\n",
    "    print(f'o campo {k} tem valor {v}')"
   ]
  },
  {
   "cell_type": "markdown",
   "metadata": {
    "colab_type": "text",
    "id": "Fuf54rJWj27T"
   },
   "source": [
    "# Sets"
   ]
  },
  {
   "cell_type": "markdown",
   "metadata": {
    "colab_type": "text",
    "id": "kyv5gr_cj-aE"
   },
   "source": [
    "São listas sem repetição, aleatoriazadas"
   ]
  },
  {
   "cell_type": "code",
   "execution_count": null,
   "metadata": {
    "colab": {},
    "colab_type": "code",
    "id": "JCOsYL4Bj5lO"
   },
   "outputs": [],
   "source": [
    "# Criando set vazio\n",
    "x = set()\n",
    "\n",
    "# Ordendando um set\n",
    ".sorted(variable)\n",
    "\n",
    "# Adicionando elemento a um set\n",
    "x.add()\n",
    "\n",
    "# Removendo elemento de um set\n",
    "x.remove() \n",
    "x.discard() # não dá erro se o item não estiver na lista\n",
    "\n",
    "#Adicionando uma lista dentro de um set\n",
    "x.update(['item1','item2','item3'])\n",
    "\n",
    "# Criando lista com itens que estão em dois sets ao mesmo tempo\n",
    "lista = x.intersection(x,z)\n",
    "\n",
    "# Criando lista com os valores que estão em x e não estão em y \n",
    "lista = x.difference(y) # Cuidado com a ordem se é x-y ou y-x (totalmenete diferente)"
   ]
  },
  {
   "cell_type": "markdown",
   "metadata": {},
   "source": [
    "## Set comprehension"
   ]
  },
  {
   "cell_type": "code",
   "execution_count": 22,
   "metadata": {},
   "outputs": [
    {
     "name": "stdout",
     "output_type": "stream",
     "text": [
      "{'u', 'a', 'e', 'i'}\n"
     ]
    }
   ],
   "source": [
    "quote = \"life, uh, finds a way\"\n",
    "unique_vowels = {i for i in quote if i in 'aeiou'}\n",
    "print(unique_vowels)\n"
   ]
  }
 ],
 "metadata": {
  "kernelspec": {
   "display_name": "Python 3",
   "language": "python",
   "name": "python3"
  },
  "language_info": {
   "codemirror_mode": {
    "name": "ipython",
    "version": 3
   },
   "file_extension": ".py",
   "mimetype": "text/x-python",
   "name": "python",
   "nbconvert_exporter": "python",
   "pygments_lexer": "ipython3",
   "version": "3.7.7"
  }
 },
 "nbformat": 4,
 "nbformat_minor": 4
}
