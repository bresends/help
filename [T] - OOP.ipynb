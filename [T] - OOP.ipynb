{
 "cells": [
  {
   "cell_type": "markdown",
   "metadata": {
    "colab_type": "text",
    "id": "rZleEkADu7fB"
   },
   "source": [
    "# Criando Classes"
   ]
  },
  {
   "cell_type": "markdown",
   "metadata": {
    "colab_type": "text",
    "id": "jS-F7957u_Ni"
   },
   "source": [
    "Uma classe é algo que vai receber características e funções próprias\n",
    "Pode ser pensada como uma fábrica de produzir objetos"
   ]
  },
  {
   "cell_type": "markdown",
   "metadata": {
    "colab_type": "text",
    "id": "jS-F7957u_Ni"
   },
   "source": [
    "__Instância__: 1 único objeto de uma classe (criado a partir de uma classe)\n",
    "\n",
    "> __Instânciar__: o ato de produzir um novo objeto à partir de uma classe"
   ]
  },
  {
   "cell_type": "markdown",
   "metadata": {
    "colab_type": "text",
    "id": "jS-F7957u_Ni"
   },
   "source": [
    "__Método__: função que está dentro de uma classe (como se fosse a forma do pudim e o objeto é o pudim) \n",
    "> __Método Construtor__ : função que define as características iniciais das instâncias"
   ]
  },
  {
   "cell_type": "markdown",
   "metadata": {
    "colab_type": "text",
    "id": "jS-F7957u_Ni"
   },
   "source": [
    "__Atributos__: variáveis dentro das classes \n",
    "> Podemos Pensar como Adjetivos\n",
    "\n",
    ">> Temos atributos de classe (que são gerais) e de objeto (que são específicas de cada objeto) "
   ]
  },
  {
   "cell_type": "markdown",
   "metadata": {},
   "source": [
    "Se eu coloco algo fora do __init__ por exemplo uma lista, todos as instancias vão compartilhar aquele item \n",
    "Se está dentro no init cada um tem o seu"
   ]
  },
  {
   "cell_type": "code",
   "execution_count": null,
   "metadata": {
    "colab": {
     "base_uri": "https://localhost:8080/",
     "height": 51
    },
    "colab_type": "code",
    "executionInfo": {
     "elapsed": 693,
     "status": "ok",
     "timestamp": 1587490778985,
     "user": {
      "displayName": "Bruno Resende",
      "photoUrl": "https://lh4.googleusercontent.com/-xGllpZMWIRM/AAAAAAAAAAI/AAAAAAAAATo/KyAa1QvSKlc/s64/photo.jpg",
      "userId": "10713419484442461753"
     },
     "user_tz": 180
    },
    "id": "E8Q5p-24vqKm",
    "outputId": "6cb83266-5d78-4b55-9df1-0d2c7c09db94"
   },
   "outputs": [],
   "source": [
    "# Defino o nome da classe (em Title)\n",
    "\n",
    "class Carro:\n",
    "    \n",
    "  # Esse __init__ é o inicializador da classe que recebe suas caracaterísticas básicas\n",
    "  def __init__(self, marca, cor, ano):\n",
    "    self.marca = marca\n",
    "    self.cor = cor\n",
    "    self.ano = ano\n",
    "  \n",
    "  # Defino quais as ações que essa classe de objetos pode realizar / São os métodos da classe\n",
    "  def Ligar(self): # Não vai receber nenhuma variável de entrada\n",
    "    print('Liguei')\n",
    "  \n",
    "  def Acelerar(self):\n",
    "    print('Aumentei a velocidade')\n",
    "  \n",
    "  def ExibirInformacoes(self):\n",
    "    print(self.marca, self.cor, self.ano)\n",
    "\n",
    "    \n",
    "# Depois de pronta a classe, eu crio instancias dando as características de cada objeto\n",
    "\n",
    "carro1 = Carro('Toyota','Azul',2018)\n",
    "carro2 = Carro('Ford','Vermelho',2010)\n",
    "carro3 = Carro('Subaru', 'Prata', 2021)\n",
    "\n",
    "# Pra executar os métodos de cada objeto eu não preciso mencionar a classe pois eu já disse que a variável é um objeto\n",
    "\n",
    "carro3.Ligar()\n",
    "carro3.ExibirInformacoes()"
   ]
  },
  {
   "cell_type": "markdown",
   "metadata": {},
   "source": [
    "# Acessando uma variável de classe dentro do método"
   ]
  },
  {
   "cell_type": "code",
   "execution_count": null,
   "metadata": {},
   "outputs": [],
   "source": [
    "# Tornando aquilo um atributo da instância\n",
    "\n",
    "class Whatever:\n",
    "    \n",
    "    ano = 2020\n",
    "    \n",
    "    def pega_ano(self):\n",
    "        print(self.ano)\n",
    "\n",
    "# Também posso fazer assim \n",
    "\n",
    "class myClass(object):\n",
    "    myvariable = 1\n",
    "\n",
    "    def add(self):\n",
    "        myClass.myvariable += 1\n",
    "\n",
    "    def print1(self):\n",
    "        print myClass.myvariable"
   ]
  },
  {
   "cell_type": "markdown",
   "metadata": {},
   "source": [
    "# Escopo de acesso das variáveis"
   ]
  },
  {
   "cell_type": "markdown",
   "metadata": {},
   "source": [
    "![Acesso](https://media.geeksforgeeks.org/wp-content/uploads/geek-table.png)\n"
   ]
  }
 ],
 "metadata": {
  "kernelspec": {
   "display_name": "Python 3",
   "language": "python",
   "name": "python3"
  },
  "language_info": {
   "codemirror_mode": {
    "name": "ipython",
    "version": 3
   },
   "file_extension": ".py",
   "mimetype": "text/x-python",
   "name": "python",
   "nbconvert_exporter": "python",
   "pygments_lexer": "ipython3",
   "version": "3.7.6"
  }
 },
 "nbformat": 4,
 "nbformat_minor": 4
}
