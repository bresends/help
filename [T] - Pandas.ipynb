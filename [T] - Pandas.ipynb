{
 "cells": [
  {
   "cell_type": "markdown",
   "metadata": {
    "colab_type": "text",
    "id": "HlQRTmTwUw7_"
   },
   "source": [
    "# Importando bibliotecas"
   ]
  },
  {
   "cell_type": "code",
   "execution_count": null,
   "metadata": {
    "colab": {},
    "colab_type": "code",
    "id": "D-_I-1MtKTmN"
   },
   "outputs": [],
   "source": [
    "import pandas as pd\n",
    "%load_ext google.colab.data_table"
   ]
  },
  {
   "cell_type": "markdown",
   "metadata": {
    "colab_type": "text",
    "id": "wktpRPHoCuSF"
   },
   "source": [
    "## Teoria"
   ]
  },
  {
   "cell_type": "markdown",
   "metadata": {
    "colab_type": "text",
    "id": "iGwXjej8CuSF"
   },
   "source": [
    "## Axis"
   ]
  },
  {
   "cell_type": "code",
   "execution_count": null,
   "metadata": {
    "colab": {},
    "colab_type": "code",
    "id": "SRp8TGnMCuSG"
   },
   "outputs": [],
   "source": [
    "1 é na coluna\n",
    "2 é na linha"
   ]
  },
  {
   "cell_type": "markdown",
   "metadata": {
    "colab_type": "text",
    "id": "vBw4GLAMONsv"
   },
   "source": [
    "# Comandos úteis"
   ]
  },
  {
   "cell_type": "code",
   "execution_count": null,
   "metadata": {
    "colab": {},
    "colab_type": "code",
    "id": "5TNuxPqPOQHA"
   },
   "outputs": [],
   "source": [
    "# Conta quantos itens de cada tipo tem dentro de uma série\n",
    "df['coluna_desejada'].value_counts()\n",
    "\n",
    "# Diz quantas linhas e colunas tem um DF\n",
    "df.shape \n",
    "\n",
    "# Diz qual o tipo \n",
    "df.info() # DF\n",
    "df.dtypes # Série\n",
    "\n",
    "# Mostra o nomes das colunas de um datafram\n",
    "df.columns\n",
    "\n",
    "#Faz média e mediana dos valores \n",
    "df.describe() \n",
    "\n",
    "#Joga fora as linhas NaN (que não tem valores)\n",
    "df.dropna() \n",
    "\n",
    "# Faz a soma de quantos valores nulos (NaN) tem dentro do DataFrame\n",
    "df['coluna_desejada'].isnull().sum()\n",
    "\n",
    "# Filtra os valores nulos (NaN) do DF\n",
    "df[df['coluna_desejada'].isnull()]\n",
    "\n",
    "# Resetando o index pra números\n",
    "df = df.reset_index()\n",
    "\n",
    "# Verificando se os itens de uma série aumentam ou diminiuem estritamente \n",
    "df_list['Net Income'].is_monotonic_decreasing \n",
    "df_list['Net Income'].is_monotonic_increasing\n"
   ]
  },
  {
   "cell_type": "markdown",
   "metadata": {
    "colab_type": "text",
    "id": "ih7y3GajJOB1"
   },
   "source": [
    "# Importando um Dataframe"
   ]
  },
  {
   "cell_type": "code",
   "execution_count": null,
   "metadata": {
    "colab": {},
    "colab_type": "code",
    "id": "kgvWXwohJM31"
   },
   "outputs": [],
   "source": [
    "# Importando CSV de uma url (dando nome do header)\n",
    "\n",
    "user_cols = ['user_id', 'age', 'gender', 'occupation', 'zip_code']\n",
    "df = pd.read_csv('http://bit.ly/movieusers', sep='|', header=None, names = user_cols)\n",
    "\n",
    "# Importando CSV de um localização do Google Drive\n",
    "df = pd.read_csv('/content/drive/My Drive/Colab Notebooks/us_companies.csv')\n",
    "\n",
    "# Se quiser abrir determinando quais são os index\n",
    "pd.read_csv('processed.csv', index_col='o_index_desejado')"
   ]
  },
  {
   "cell_type": "code",
   "execution_count": null,
   "metadata": {
    "colab": {},
    "colab_type": "code",
    "id": "mHd77kUEe54d"
   },
   "outputs": [],
   "source": [
    "#Ex: Fazendo tudo ficar Uppercase\n",
    "df.columns = [x.lower() for x in df.columns]\n",
    "\n",
    "#Mudando apenas nomes específicos :)\n",
    "df.rename(columns={'occupation': 'profissão', 'age': 'idade'}, inplace=True) #ou põe o inplace ou joga isso em uma variável "
   ]
  },
  {
   "cell_type": "code",
   "execution_count": null,
   "metadata": {
    "colab": {},
    "colab_type": "code",
    "id": "kyAe0p25P6ux"
   },
   "outputs": [],
   "source": [
    "# Importando uma tabela em um HTML \n",
    "url = 'https://en.wikipedia.org/wiki/Help:Table'\n",
    "df_table = pd.read_html(url)\n",
    "\n",
    "df_table[15]\n"
   ]
  },
  {
   "cell_type": "markdown",
   "metadata": {
    "colab_type": "text",
    "id": "mdrWmPDNdTie"
   },
   "source": [
    "### Passando o Header antes"
   ]
  },
  {
   "cell_type": "code",
   "execution_count": null,
   "metadata": {
    "colab": {},
    "colab_type": "code",
    "id": "YmJoDD8DUM0k"
   },
   "outputs": [],
   "source": [
    "#Passando todos os valores\n",
    "\n",
    "df_cols = ['Nome', 'Idade', 'Sexo', 'Ocupação', 'CEP']\n",
    "df.columns = df_cols\n",
    "\n",
    "#Trocando apenas alguns\n",
    "df = df.rename(columns = {\"a\":\"c\", \"b\": \"d\"}) "
   ]
  },
  {
   "cell_type": "markdown",
   "metadata": {
    "colab_type": "text",
    "id": "Ptw7js3DVue3"
   },
   "source": [
    "##### Trocando vários itens ao mesmo tempo em um header"
   ]
  },
  {
   "cell_type": "code",
   "execution_count": null,
   "metadata": {
    "colab": {},
    "colab_type": "code",
    "id": "BZKUw2bkVx0v"
   },
   "outputs": [],
   "source": [
    "df.columns = df.columns.str.replace('I', 'Txengas')\n",
    "# Vai trocar todos os Is por Txngas no Header"
   ]
  },
  {
   "cell_type": "markdown",
   "metadata": {
    "colab_type": "text",
    "id": "qunokE4H1lwV"
   },
   "source": [
    "# Exportando DataFrame"
   ]
  },
  {
   "cell_type": "code",
   "execution_count": null,
   "metadata": {
    "colab": {},
    "colab_type": "code",
    "id": "6zJCEH9S2d-c"
   },
   "outputs": [],
   "source": [
    "# Exportando Arquivo CSV How\n",
    "\n",
    "df.to_csv('arquivo.csv', index=False) #Não inclui os index\n",
    "\n",
    "# Exportando CSV para localização \n",
    "\n",
    "df.to_csv('/content/drive/My Drive/Colab Notebooks/us_companies.csv', index=False)"
   ]
  },
  {
   "cell_type": "markdown",
   "metadata": {
    "colab_type": "text",
    "id": "wiCS5-bYNqUr"
   },
   "source": [
    "\n",
    "# Criando [Colunas e Linhas] com dados do DataFrame\n",
    "\n"
   ]
  },
  {
   "cell_type": "markdown",
   "metadata": {
    "colab_type": "text",
    "id": "2ArLF0T5d6RH"
   },
   "source": [
    "Dica: Sempre que fizer um slice de um DF maior pra um menor faça (.copy)\n",
    "\n",
    "df_menor = df_maior.copy()"
   ]
  },
  {
   "cell_type": "code",
   "execution_count": null,
   "metadata": {
    "colab": {},
    "colab_type": "code",
    "id": "ZuYiAyrld2SA"
   },
   "outputs": [],
   "source": [
    "# Criando uma coluna com a soma do user_id com a idade\n",
    "df['Soma'] = df['user_id'] + df['age']\n",
    "\n",
    "# Criando uma coluna com o sexo junto com a ocupação\n",
    "df['Sexocupation'] = df['occupation'] + ', ' + df['gender']\n"
   ]
  },
  {
   "cell_type": "code",
   "execution_count": null,
   "metadata": {
    "colab": {},
    "colab_type": "code",
    "id": "0JbE_BAAnG5b"
   },
   "outputs": [],
   "source": [
    "# Criando linhas\n",
    "df.append('user_id':'2503', ignore_index=True) #aqui ou vc preenche todas as colunas ou usa esse ignore index que poe o NaN"
   ]
  },
  {
   "cell_type": "markdown",
   "metadata": {
    "colab_type": "text",
    "id": "iNvy4pvgRn6Z"
   },
   "source": [
    "# Deletando linhas e colunas\n"
   ]
  },
  {
   "cell_type": "code",
   "execution_count": null,
   "metadata": {
    "colab": {},
    "colab_type": "code",
    "id": "EA_Au-f_Rm3R"
   },
   "outputs": [],
   "source": [
    "# Apagando colunas\n",
    "df = df.drop(['Sexocupation','Soma'], axis=1)\n",
    "\n",
    "#Apagando linhas\n",
    "df = df.drop(2, axis=0)\n",
    "df = df.drop([0,1], axis = 0)\n",
    "\n"
   ]
  },
  {
   "cell_type": "markdown",
   "metadata": {
    "colab_type": "text",
    "id": "YTdDDHMKhieU"
   },
   "source": [
    "# Mudando valores de Linhas e colunas"
   ]
  },
  {
   "cell_type": "markdown",
   "metadata": {
    "colab_type": "text",
    "id": "_E7bdkRalT3k"
   },
   "source": [
    "## Mudando o valor das linhas"
   ]
  },
  {
   "cell_type": "markdown",
   "metadata": {
    "colab_type": "text",
    "id": "zFVqXltHpwzY"
   },
   "source": [
    "### Removendo um caracter de TODAS as linhas"
   ]
  },
  {
   "cell_type": "code",
   "execution_count": null,
   "metadata": {
    "colab": {},
    "colab_type": "code",
    "id": "95jvGsVHp1f5"
   },
   "outputs": [],
   "source": [
    "# Removendo uma palavra \n",
    "df['idade'] = df['idade'].str.replace('Deu',\"\")\n",
    "df\n",
    "\n",
    "# Replace \n",
    "\n",
    "#Trocando números \n",
    "df['user_id'] = df['user_id'].replace({2:3 , 4:788})"
   ]
  },
  {
   "cell_type": "markdown",
   "metadata": {
    "colab_type": "text",
    "id": "_hA-msC_qv-r"
   },
   "source": [
    "### Mudando valores individuais "
   ]
  },
  {
   "cell_type": "code",
   "execution_count": null,
   "metadata": {
    "cellView": "code",
    "colab": {},
    "colab_type": "code",
    "id": "q5en0rcBlfx_"
   },
   "outputs": [],
   "source": [
    "# Mudando o valor da idade de tudo index zero \n",
    "\n",
    "df.loc[:, ['idade']] = ['Deu ruim']\n",
    "\n",
    "# Mudando todos os dados pra upper case\n",
    "# No caso eu seleciono o valor e digo o que ele vai virar \n",
    "df['profissão'] = df['profissão'].str.upper()\n"
   ]
  },
  {
   "cell_type": "markdown",
   "metadata": {
    "colab_type": "text",
    "id": "RLpIphjuXKEr"
   },
   "source": [
    "# Sorting \n",
    "Atenção, ele não muda a ordem. \n",
    "Se quiser fazer isso tem que mandar o *inplace *"
   ]
  },
  {
   "cell_type": "code",
   "execution_count": null,
   "metadata": {
    "colab": {},
    "colab_type": "code",
    "id": "qcGDuvyOW5sV"
   },
   "outputs": [],
   "source": [
    "#Acendente alfabética\n",
    "df.sort_values(by=['Coluna'], inplace=True)\n",
    "\n",
    "#Descendente alfabética\n",
    "df['age'].sort_values(by=['Coluna'], ascending=False)"
   ]
  },
  {
   "cell_type": "markdown",
   "metadata": {
    "colab_type": "text",
    "id": "0As6_do7Ym_I"
   },
   "source": [
    "## Mantendo o Dataframe completo no lugar mas fazendo o sorting"
   ]
  },
  {
   "cell_type": "code",
   "execution_count": null,
   "metadata": {
    "colab": {},
    "colab_type": "code",
    "id": "J5ie6CZVYtMV"
   },
   "outputs": [],
   "source": [
    "df.sort_values('age')"
   ]
  },
  {
   "cell_type": "markdown",
   "metadata": {
    "colab_type": "text",
    "id": "YHm12VmBX3XO"
   },
   "source": [
    "# Filtrando dados de um DataFrame"
   ]
  },
  {
   "cell_type": "markdown",
   "metadata": {
    "colab_type": "text",
    "id": "ZWIfGLwPaKRt"
   },
   "source": [
    "##### Dica: Pra usar End é \"&\" e Or é \"|\"\n",
    "\n",
    "\n"
   ]
  },
  {
   "cell_type": "markdown",
   "metadata": {
    "colab_type": "text",
    "id": "sRzi01I9UpBD"
   },
   "source": [
    "## Selecionando colunas (séries)"
   ]
  },
  {
   "cell_type": "code",
   "execution_count": null,
   "metadata": {
    "colab": {},
    "colab_type": "code",
    "id": "_WPOQm3DK9rx"
   },
   "outputs": [],
   "source": [
    "#Individual \n",
    "\n",
    "df['user_id'] #ou \n",
    "df.user_id\n",
    "\n",
    "# Selecionando um \"Filtered Down\" DataFrame (um dataframe menor dentro do grande)\n",
    "df[['user_id','age']] # tem que ter os dois brackets obrigatóriamente pois é uma lista dentro de uma lista\n"
   ]
  },
  {
   "cell_type": "markdown",
   "metadata": {
    "colab_type": "text",
    "id": "Q_w8e45jcsue"
   },
   "source": [
    "## Selecionando Linhas"
   ]
  },
  {
   "cell_type": "markdown",
   "metadata": {
    "colab_type": "text",
    "id": "LGbmF1RDcKrl"
   },
   "source": [
    "###### Selecionando linhas pelos Labels"
   ]
  },
  {
   "cell_type": "code",
   "execution_count": null,
   "metadata": {
    "colab": {
     "base_uri": "https://localhost:8080/",
     "height": 131
    },
    "colab_type": "code",
    "executionInfo": {
     "elapsed": 943,
     "status": "ok",
     "timestamp": 1586997852531,
     "user": {
      "displayName": "Bruno Resende",
      "photoUrl": "https://lh4.googleusercontent.com/-xGllpZMWIRM/AAAAAAAAAAI/AAAAAAAAATo/KyAa1QvSKlc/s64/photo.jpg",
      "userId": "10713419484442461753"
     },
     "user_tz": 180
    },
    "id": "vgCWMgXtcOW-",
    "outputId": "c757da70-1f1d-453f-bb2a-3082eb069375"
   },
   "outputs": [
    {
     "data": {
      "application/vnd.google.colaboratory.module+javascript": "\n      import \"https://ssl.gstatic.com/colaboratory/data_table/a6224c040fa35dcf/data_table.js\";\n\n      window.createDataTable({\n        data: [[{\n            'v': 0,\n            'f': \"0\",\n        },\n{\n            'v': 24,\n            'f': \"24\",\n        },\n{\n            'v': 1,\n            'f': \"1\",\n        }],\n [{\n            'v': 1,\n            'f': \"1\",\n        },\n{\n            'v': 53,\n            'f': \"53\",\n        },\n{\n            'v': 2,\n            'f': \"2\",\n        }]],\n        columns: [[\"number\", \"index\"], [\"number\", \"age\"], [\"number\", \"user_id\"]],\n        columnOptions: [{\"width\": \"1px\", \"className\": \"index_column\"}],\n        rowsPerPage: 25,\n        helpUrl: \"https://colab.research.google.com/notebooks/data_table.ipynb\",\n        suppressOutputScrolling: true,\n        minimumWidth: undefined,\n      });\n    ",
      "text/html": [
       "<div>\n",
       "<style scoped>\n",
       "    .dataframe tbody tr th:only-of-type {\n",
       "        vertical-align: middle;\n",
       "    }\n",
       "\n",
       "    .dataframe tbody tr th {\n",
       "        vertical-align: top;\n",
       "    }\n",
       "\n",
       "    .dataframe thead th {\n",
       "        text-align: right;\n",
       "    }\n",
       "</style>\n",
       "<table border=\"1\" class=\"dataframe\">\n",
       "  <thead>\n",
       "    <tr style=\"text-align: right;\">\n",
       "      <th></th>\n",
       "      <th>age</th>\n",
       "      <th>user_id</th>\n",
       "    </tr>\n",
       "  </thead>\n",
       "  <tbody>\n",
       "    <tr>\n",
       "      <th>0</th>\n",
       "      <td>24</td>\n",
       "      <td>1</td>\n",
       "    </tr>\n",
       "    <tr>\n",
       "      <th>1</th>\n",
       "      <td>53</td>\n",
       "      <td>2</td>\n",
       "    </tr>\n",
       "  </tbody>\n",
       "</table>\n",
       "</div>"
      ],
      "text/plain": [
       "   age  user_id\n",
       "0   24        1\n",
       "1   53        2"
      ]
     },
     "execution_count": 78,
     "metadata": {
      "tags": []
     },
     "output_type": "execute_result"
    }
   ],
   "source": [
    "df.loc[ 0, 'age']\n",
    "df.loc[[0,3],['age','user_id']] #Pega os itens individuais 0 e 3 e Age e user ID\n",
    "df.loc[0:3, 'age':'user_id'] #Faz lista de tudo de 0 a 3 e Age até User_Id"
   ]
  },
  {
   "cell_type": "markdown",
   "metadata": {
    "colab_type": "text",
    "id": "zhdIr5sI-DN0"
   },
   "source": [
    "Jeito Rápido "
   ]
  },
  {
   "cell_type": "code",
   "execution_count": null,
   "metadata": {
    "colab": {},
    "colab_type": "code",
    "id": "GU46_ZAi7x-f"
   },
   "outputs": [],
   "source": [
    "# Simples\n",
    "df.[df.Ticker = 'AA']\n",
    "df[df['Ticker'] == 'Qualquer Coisa']\n",
    "\n",
    "# Multiplas condições\n",
    "df[ (df['Coluna_1'] == False) & (df['Coluna_2'] > 2) ]\n",
    "\n",
    "# Filtrando  os NaN\n",
    "filtered_df = df[df['var2'].isnull()]"
   ]
  },
  {
   "cell_type": "code",
   "execution_count": null,
   "metadata": {
    "colab": {},
    "colab_type": "code",
    "id": "-XoUGkgFX7rM"
   },
   "outputs": [],
   "source": [
    "# Filtrando na minha tabela todo mundo que é homem \n",
    "\n",
    "# Jeito Certo\n",
    "# 1 - Crio um filtro\n",
    "\n",
    "filtro = (df_merged['MS'] == False) & (df_merged['MBI'] == False) & (df_merged['MB']) & (df_merged['CNN'] == False)\n",
    "\n",
    "# 2 - Aplico ele no DataFrame \n",
    "df = df_merged.loc[filtro]\n",
    "\n",
    "df.loc[filtro, ['zip_code', 'gender']] # Mostra o dataframe apenas com os filtrados / No caso o zip de todos os homens\n",
    "\n",
    "# Contra-Filtro \n",
    "df.loc[~filtro] # Vai me dar o DF de todas as mulheres que não são estudantes\n"
   ]
  },
  {
   "cell_type": "markdown",
   "metadata": {
    "colab_type": "text",
    "id": "hI-bfMtQeRh4"
   },
   "source": [
    "## Criando Filtro com vários dados desejados"
   ]
  },
  {
   "cell_type": "code",
   "execution_count": null,
   "metadata": {
    "colab": {},
    "colab_type": "code",
    "id": "1MKrtnlaeg08"
   },
   "outputs": [],
   "source": [
    "# Crio uma lista com os dados que eu quero \n",
    "profession = ['educator', 'student', 'writer']\n",
    "\n",
    "# Crio o filtro \n",
    "filtro = (df['occupation'].isin(profession)) & (df['age'] > 30)\n",
    "\n",
    "# Puxo o DF com o filtro aplicado \n",
    "df.loc[filtro]"
   ]
  },
  {
   "cell_type": "markdown",
   "metadata": {
    "colab_type": "text",
    "id": "JD2hYBUdf8t1"
   },
   "source": [
    "## Fazendo um filtro de string (str) dentro da célula da série"
   ]
  },
  {
   "cell_type": "code",
   "execution_count": null,
   "metadata": {
    "colab": {},
    "colab_type": "code",
    "id": "_XjZAssxf-98"
   },
   "outputs": [],
   "source": [
    "#Dentro da célula ele vai olhar se tem a expressão 'ech' e vai puxar o filtro \n",
    "filtro = df['occupation'].str.contains('ech')\n",
    "df.loc[filtro]"
   ]
  },
  {
   "cell_type": "markdown",
   "metadata": {},
   "source": [
    "## Filtrando Duplicatas"
   ]
  },
  {
   "cell_type": "markdown",
   "metadata": {},
   "source": [
    "### Contando e Separando"
   ]
  },
  {
   "cell_type": "code",
   "execution_count": null,
   "metadata": {},
   "outputs": [],
   "source": [
    "# Somando quantidade [Série]\n",
    "df['Coluna'].duplicated().sum()\n",
    "\n",
    "# Se eu aplicar esse método em um Dataframe inteiro ele me fala quais as rows repetidas (todos os valores repetidos)\n",
    "\n",
    "# Filtrando valores\n",
    "df.loc[df['Coluna'].duplicated(keep='first'), :] # : = todas as colunas\n",
    "\\\n",
    "# Se eu usar o parâmetro keep = first/last eu falo pra ele filtrar só os valores repetidos posteriores\n",
    "# False mostra todos os repetidos "
   ]
  },
  {
   "cell_type": "markdown",
   "metadata": {},
   "source": [
    "### Deletando"
   ]
  },
  {
   "cell_type": "code",
   "execution_count": null,
   "metadata": {},
   "outputs": [],
   "source": [
    "df.drop_duplicates(keep='first')"
   ]
  },
  {
   "cell_type": "markdown",
   "metadata": {
    "colab_type": "text",
    "id": "XZDI9eLNq32o"
   },
   "source": [
    "# Aplicando Funções e Iterando sobre o DF\n"
   ]
  },
  {
   "cell_type": "markdown",
   "metadata": {
    "colab_type": "text",
    "id": "CdI05_mQonMu"
   },
   "source": [
    "## Apply "
   ]
  },
  {
   "cell_type": "code",
   "execution_count": null,
   "metadata": {
    "colab": {},
    "colab_type": "code",
    "id": "4Hm-pLmFrD9w"
   },
   "outputs": [],
   "source": [
    "# Apply (em uma série)\n",
    "\n",
    "# Nesse caso eu faço uma função (que aqui pega um valor e soma)\n",
    "def update_value(value):\n",
    "  return value + 1 \n",
    "\n",
    "# Aí eu pego aquela função e aplico em cada uma das linhas \n",
    "df['user_id'] = df['user_id'].apply(update_value) #cuidado pra não usar parenteses no final \n",
    "# Interessante pra fazer com lambda functions "
   ]
  },
  {
   "cell_type": "code",
   "execution_count": null,
   "metadata": {
    "colab": {},
    "colab_type": "code",
    "id": "YFKYXs429wKX"
   },
   "outputs": [],
   "source": [
    "### O apply pra dataframes é legal pra saber por exemplo qual o maior item de uma coluna. Se precisar disso assista o vídeo do DataSchool sobre apply (explica bem)"
   ]
  },
  {
   "cell_type": "markdown",
   "metadata": {
    "colab_type": "text",
    "id": "RxCBFUQy9wKb"
   },
   "source": [
    "## ApllyMap"
   ]
  },
  {
   "cell_type": "code",
   "execution_count": null,
   "metadata": {
    "colab": {},
    "colab_type": "code",
    "id": "eCsDPliQ9wKb"
   },
   "outputs": [],
   "source": [
    "# Aplicando uma função em todos os elementos INDIVIDUAIS de um dataframe \n",
    "# Exemplo: Transforma TODOS os itens (desconsiderando o header) de um dataframe em float \n",
    "df = df.applymap(float)\n",
    "\n",
    "# Inteiro pra strings\n",
    "df = df.applymap(str)"
   ]
  },
  {
   "cell_type": "markdown",
   "metadata": {
    "colab_type": "text",
    "id": "H_SGDaRO9wKf"
   },
   "source": [
    "## Aplicando Métodos String em uma Série"
   ]
  },
  {
   "cell_type": "markdown",
   "metadata": {
    "colab_type": "text",
    "id": "vIiDsSMf9wKf"
   },
   "source": [
    "### Pra aplicar um método STR em uma Série de um Datraframe eu preciso dizer pro pandas que é um str\n",
    "> O ideal é transformar os dtypes pra StringDtype \n",
    ">> Documentação https://pandas.pydata.org/pandas-docs/stable/user_guide/text.html"
   ]
  },
  {
   "cell_type": "code",
   "execution_count": null,
   "metadata": {
    "colab": {},
    "colab_type": "code",
    "id": "2fqQjKY09wKg"
   },
   "outputs": [],
   "source": [
    "# Tudo em maísculos\n",
    "df['Coluna'].str.upper() \n",
    "\n",
    "# Verificar se tem ou não uma palavra ou frase dentro de uma série\n",
    "df[df['Coluna'].str.contais('Galinha')] # Filtra apenas o que tem galinha na série \n",
    "\n",
    "# Pode usar junto\n",
    "df['Coluna'].str.upper().replace('[','').replace(']','')\n",
    "\n"
   ]
  },
  {
   "cell_type": "markdown",
   "metadata": {
    "colab_type": "text",
    "id": "nOLBq4BLCuTe"
   },
   "source": [
    "## Usando lambdas"
   ]
  },
  {
   "cell_type": "code",
   "execution_count": null,
   "metadata": {
    "colab": {},
    "colab_type": "code",
    "id": "To867m0qCuTf"
   },
   "outputs": [],
   "source": [
    "print(df.apply(lambda row: row[\"Ticker\"] + \" \" + str(row[\"BS\"]), axis = 1)) "
   ]
  },
  {
   "cell_type": "markdown",
   "metadata": {
    "colab_type": "text",
    "id": "frKs8ILeCuTh"
   },
   "source": [
    "# Funções úteis prontas"
   ]
  },
  {
   "cell_type": "markdown",
   "metadata": {
    "colab_type": "text",
    "id": "sGSFEKbmCuTi"
   },
   "source": [
    "## Filtrando strings pelo tamanho"
   ]
  },
  {
   "cell_type": "code",
   "execution_count": null,
   "metadata": {
    "colab": {},
    "colab_type": "code",
    "id": "SbzDTV3NCuTi"
   },
   "outputs": [],
   "source": [
    "# Seleciona no dataframe os itens daquela coluna maiores ou menores que um valor \n",
    "df[df['Ticker'].map(len) > 4]"
   ]
  },
  {
   "cell_type": "markdown",
   "metadata": {
    "colab_type": "text",
    "id": "XROdAjFO5dyh"
   },
   "source": [
    "### Transformando um DF pra um dicionário "
   ]
  },
  {
   "cell_type": "code",
   "execution_count": null,
   "metadata": {
    "colab": {},
    "colab_type": "code",
    "id": "txrV0Jnu5iWD"
   },
   "outputs": [],
   "source": [
    "# Transformando cada linha em um dicionário dentro de uma lista\n",
    "df_dict = df_slice.to_dict('records')\n",
    "\n",
    "# Transformando cada linha em um dicionário que transforma os Indexes em Keys\n",
    "df_dict = df_slice.to_dict('index')"
   ]
  },
  {
   "cell_type": "markdown",
   "metadata": {
    "colab_type": "text",
    "id": "GgyffckNY3vS"
   },
   "source": [
    "# Unindo 2 Dataframes"
   ]
  },
  {
   "cell_type": "code",
   "execution_count": null,
   "metadata": {
    "colab": {},
    "colab_type": "code",
    "id": "oilRdEbCY69T"
   },
   "outputs": [],
   "source": [
    "# Concat / Apenas junta um no outro sem considerar se tem itens iguais\n",
    "# Passo uma lista pra ele e decido se é vertical ou horizontal \n",
    "#[Data School nunca usa o Append por ser limitado em funções]\n",
    "\n",
    "df = pd.concat([df1, df2])\n",
    "df = df.reset_index(drop=True) # Reseta os Indexes pra juntar tudo começando do zero"
   ]
  },
  {
   "cell_type": "code",
   "execution_count": null,
   "metadata": {
    "colab": {},
    "colab_type": "code",
    "id": "kQ71laCArD7K"
   },
   "outputs": [],
   "source": [
    "# Merge  / Junta os itens levando em consideração uma coluna \n",
    "#(Data School nunca usa o Join por ser limitado em funções)\n",
    "\n",
    "df_resultado = pd.merge(df_1, df_2, how='inner')\n",
    "df_resultado = pd.merge(df_1, df_2, how='outer')\n",
    "\n",
    "# Se eu quiser unir apenas por 1 das colunas \n",
    "df_resultado = pd.merge(df_1, df_2, on=['Coluna_de_União','Coluna_de_União_2'])\n",
    "\n",
    "# Se o nome das colunas não bater, posso fazer na mão \n",
    "df_resultado = pd.merge(df_1, df_2, left_on=['nome_respectivo_df1'], right_on=['nome_respectivo_df2'])\n",
    "\n",
    "# Se quiser fazer o merge pelos indexes\n",
    "df_resultado = pd.merge(df_1, df_2, left_index=True, right_index=True)\n",
    "\n",
    "# Se quiser por nome nos indicadores de colunas\n",
    "\n",
    "df_resultado = pd.merge(df_1, df_2, on=['Whatever'], suffixes=('_left', '_right')) \n",
    "df_merged = pd.merge(df_tb, df_guru, how='outer', on = 'Ticker', indicator=True, suffixes=('_TB', '_Guru'))"
   ]
  },
  {
   "cell_type": "markdown",
   "metadata": {
    "colab_type": "text",
    "id": "ATY-98cW19Vt"
   },
   "source": [
    "#### Explicando os Hows\n",
    "\n",
    "1.   Inner = Só faz as mesclagens se ambos os itens estiverem em ambos os dataframes (joga o resto fora) \n",
    "2.   Outter = Tudo é jogado no novo dataframe. Se tiver informações que não tem dados ele põe um NaN\n",
    "3. Left = as informações de DF1 são mantidas se tiver ou não. As de DF2 jogadas fora.\n",
    "4. Right = Contrário de Left\n",
    "\n",
    "\n"
   ]
  },
  {
   "cell_type": "code",
   "execution_count": null,
   "metadata": {
    "colab": {},
    "colab_type": "code",
    "id": "OzIeg6hD31X5"
   },
   "outputs": [],
   "source": [
    "# Juntando dados que tem datas \n",
    "df_merge_asof = pd.merge_asof(trades, quotes, on='time', by='ticker')\n",
    "\n",
    "# É interessante pq ele pega tempos parecidos. Não precisa ser o exato mesmo valor pra ele identificar\n",
    "df_merge_asof_tolerance = pd.merge_asof(trades, quotes, on='time', by='ticker', tolerance=pd.Timedelta('2ms'))"
   ]
  },
  {
   "cell_type": "markdown",
   "metadata": {
    "colab_type": "text",
    "id": "R_yITVOsTHih"
   },
   "source": [
    "# Comparando Dataframes"
   ]
  },
  {
   "cell_type": "code",
   "execution_count": null,
   "metadata": {
    "colab": {
     "base_uri": "https://localhost:8080/",
     "height": 142
    },
    "colab_type": "code",
    "executionInfo": {
     "elapsed": 1458,
     "status": "ok",
     "timestamp": 1587299297144,
     "user": {
      "displayName": "Bruno Resende",
      "photoUrl": "https://lh4.googleusercontent.com/-xGllpZMWIRM/AAAAAAAAAAI/AAAAAAAAATo/KyAa1QvSKlc/s64/photo.jpg",
      "userId": "10713419484442461753"
     },
     "user_tz": 180
    },
    "id": "OQObl0DMTKkI",
    "outputId": "7ee9ffa4-f6b3-4573-c70f-e0e208eea3a4"
   },
   "outputs": [],
   "source": [
    "import pandas as pd\n",
    " \n",
    "df1 = pd.DataFrame({'City': ['New York', 'Chicago', 'Tokyo', 'Paris','New Delhi'],\n",
    "                     'Temp': [59, 29, 73, 56,48]})\n",
    " \n",
    "df2 = pd.DataFrame({'City': ['London', 'New York', 'Tokyo', 'New Delhi','Paris'],\n",
    "                     'Temp': [55, 55, 73, 85,56]})\n"
   ]
  },
  {
   "cell_type": "markdown",
   "metadata": {},
   "source": [
    "## Encontrando Itens em Comum nas Duas (Estão em 1 e no outro)"
   ]
  },
  {
   "cell_type": "code",
   "execution_count": null,
   "metadata": {
    "colab": {
     "base_uri": "https://localhost:8080/",
     "height": 111
    },
    "colab_type": "code",
    "executionInfo": {
     "elapsed": 701,
     "status": "ok",
     "timestamp": 1587300461886,
     "user": {
      "displayName": "Bruno Resende",
      "photoUrl": "https://lh4.googleusercontent.com/-xGllpZMWIRM/AAAAAAAAAAI/AAAAAAAAATo/KyAa1QvSKlc/s64/photo.jpg",
      "userId": "10713419484442461753"
     },
     "user_tz": 180
    },
    "id": "7Yq9JCNpaWG4",
    "outputId": "d47fce85-1e09-4f20-c1b0-2868bbd0daf2"
   },
   "outputs": [
    {
     "data": {
      "text/html": [
       "<div>\n",
       "<style scoped>\n",
       "    .dataframe tbody tr th:only-of-type {\n",
       "        vertical-align: middle;\n",
       "    }\n",
       "\n",
       "    .dataframe tbody tr th {\n",
       "        vertical-align: top;\n",
       "    }\n",
       "\n",
       "    .dataframe thead th {\n",
       "        text-align: right;\n",
       "    }\n",
       "</style>\n",
       "<table border=\"1\" class=\"dataframe\">\n",
       "  <thead>\n",
       "    <tr style=\"text-align: right;\">\n",
       "      <th></th>\n",
       "      <th>City</th>\n",
       "      <th>Temp</th>\n",
       "    </tr>\n",
       "  </thead>\n",
       "  <tbody>\n",
       "    <tr>\n",
       "      <th>0</th>\n",
       "      <td>Tokyo</td>\n",
       "      <td>73</td>\n",
       "    </tr>\n",
       "    <tr>\n",
       "      <th>1</th>\n",
       "      <td>Paris</td>\n",
       "      <td>56</td>\n",
       "    </tr>\n",
       "  </tbody>\n",
       "</table>\n",
       "</div>"
      ],
      "text/plain": [
       "    City  Temp\n",
       "0  Tokyo    73\n",
       "1  Paris    56"
      ]
     },
     "execution_count": 4,
     "metadata": {
      "tags": []
     },
     "output_type": "execute_result"
    }
   ],
   "source": [
    "df = pd.merge(df1, df2, how='inner', indicator=False)\n",
    "df"
   ]
  },
  {
   "cell_type": "markdown",
   "metadata": {},
   "source": [
    "## Encontrando LINHAS exclusivas de um (Linhas de df1 que não estão em df2)"
   ]
  },
  {
   "cell_type": "code",
   "execution_count": null,
   "metadata": {
    "colab": {
     "base_uri": "https://localhost:8080/",
     "height": 142
    },
    "colab_type": "code",
    "executionInfo": {
     "elapsed": 737,
     "status": "ok",
     "timestamp": 1587300765811,
     "user": {
      "displayName": "Bruno Resende",
      "photoUrl": "https://lh4.googleusercontent.com/-xGllpZMWIRM/AAAAAAAAAAI/AAAAAAAAATo/KyAa1QvSKlc/s64/photo.jpg",
      "userId": "10713419484442461753"
     },
     "user_tz": 180
    },
    "id": "k3dkeYsNfKAX",
    "outputId": "f86724ab-bf17-4927-cbb9-c077822386b7"
   },
   "outputs": [
    {
     "data": {
      "text/html": [
       "<div>\n",
       "<style scoped>\n",
       "    .dataframe tbody tr th:only-of-type {\n",
       "        vertical-align: middle;\n",
       "    }\n",
       "\n",
       "    .dataframe tbody tr th {\n",
       "        vertical-align: top;\n",
       "    }\n",
       "\n",
       "    .dataframe thead th {\n",
       "        text-align: right;\n",
       "    }\n",
       "</style>\n",
       "<table border=\"1\" class=\"dataframe\">\n",
       "  <thead>\n",
       "    <tr style=\"text-align: right;\">\n",
       "      <th></th>\n",
       "      <th>City</th>\n",
       "      <th>Temp</th>\n",
       "      <th>_merge</th>\n",
       "    </tr>\n",
       "  </thead>\n",
       "  <tbody>\n",
       "    <tr>\n",
       "      <th>5</th>\n",
       "      <td>London</td>\n",
       "      <td>55</td>\n",
       "      <td>right_only</td>\n",
       "    </tr>\n",
       "    <tr>\n",
       "      <th>6</th>\n",
       "      <td>New York</td>\n",
       "      <td>55</td>\n",
       "      <td>right_only</td>\n",
       "    </tr>\n",
       "    <tr>\n",
       "      <th>7</th>\n",
       "      <td>New Delhi</td>\n",
       "      <td>85</td>\n",
       "      <td>right_only</td>\n",
       "    </tr>\n",
       "  </tbody>\n",
       "</table>\n",
       "</div>"
      ],
      "text/plain": [
       "        City  Temp      _merge\n",
       "5     London    55  right_only\n",
       "6   New York    55  right_only\n",
       "7  New Delhi    85  right_only"
      ]
     },
     "execution_count": 7,
     "metadata": {
      "tags": []
     },
     "output_type": "execute_result"
    }
   ],
   "source": [
    "df = pd.merge(df1, df2, how = 'outer', indicator=True).loc[lambda x : x['_merge']=='left_only']\n",
    "df\n",
    "\n",
    "# Aqui eu faço a união dos dois DF criando uma coluna que indica sua origem\n",
    "# Depois eu filtro apenas as linhas dos que vieram da esquerda (ou da direita)"
   ]
  },
  {
   "cell_type": "markdown",
   "metadata": {},
   "source": [
    "## Descartando a intersecção (jogando fora todos o itens repetidos em ambos)"
   ]
  },
  {
   "cell_type": "code",
   "execution_count": null,
   "metadata": {
    "colab": {
     "base_uri": "https://localhost:8080/",
     "height": 235
    },
    "colab_type": "code",
    "executionInfo": {
     "elapsed": 703,
     "status": "ok",
     "timestamp": 1587302069047,
     "user": {
      "displayName": "Bruno Resende",
      "photoUrl": "https://lh4.googleusercontent.com/-xGllpZMWIRM/AAAAAAAAAAI/AAAAAAAAATo/KyAa1QvSKlc/s64/photo.jpg",
      "userId": "10713419484442461753"
     },
     "user_tz": 180
    },
    "id": "cPIPFbpfkxfl",
    "outputId": "d561426d-d7c0-4354-d909-9bc077e9b886"
   },
   "outputs": [
    {
     "data": {
      "text/html": [
       "<div>\n",
       "<style scoped>\n",
       "    .dataframe tbody tr th:only-of-type {\n",
       "        vertical-align: middle;\n",
       "    }\n",
       "\n",
       "    .dataframe tbody tr th {\n",
       "        vertical-align: top;\n",
       "    }\n",
       "\n",
       "    .dataframe thead th {\n",
       "        text-align: right;\n",
       "    }\n",
       "</style>\n",
       "<table border=\"1\" class=\"dataframe\">\n",
       "  <thead>\n",
       "    <tr style=\"text-align: right;\">\n",
       "      <th></th>\n",
       "      <th>City</th>\n",
       "      <th>Temp</th>\n",
       "    </tr>\n",
       "  </thead>\n",
       "  <tbody>\n",
       "    <tr>\n",
       "      <th>0</th>\n",
       "      <td>New York</td>\n",
       "      <td>59</td>\n",
       "    </tr>\n",
       "    <tr>\n",
       "      <th>1</th>\n",
       "      <td>Chicago</td>\n",
       "      <td>29</td>\n",
       "    </tr>\n",
       "    <tr>\n",
       "      <th>4</th>\n",
       "      <td>New Delhi</td>\n",
       "      <td>48</td>\n",
       "    </tr>\n",
       "    <tr>\n",
       "      <th>0</th>\n",
       "      <td>London</td>\n",
       "      <td>55</td>\n",
       "    </tr>\n",
       "    <tr>\n",
       "      <th>1</th>\n",
       "      <td>New York</td>\n",
       "      <td>55</td>\n",
       "    </tr>\n",
       "    <tr>\n",
       "      <th>3</th>\n",
       "      <td>New Delhi</td>\n",
       "      <td>85</td>\n",
       "    </tr>\n",
       "  </tbody>\n",
       "</table>\n",
       "</div>"
      ],
      "text/plain": [
       "        City  Temp\n",
       "0   New York    59\n",
       "1    Chicago    29\n",
       "4  New Delhi    48\n",
       "0     London    55\n",
       "1   New York    55\n",
       "3  New Delhi    85"
      ]
     },
     "execution_count": 9,
     "metadata": {
      "tags": []
     },
     "output_type": "execute_result"
    }
   ],
   "source": [
    "pd.concat([df1,df2]).drop_duplicates(keep=False)"
   ]
  },
  {
   "cell_type": "markdown",
   "metadata": {},
   "source": [
    "## Encontrados todos os valores em uma coluna de DFs que não são comuns em ambos"
   ]
  },
  {
   "cell_type": "code",
   "execution_count": null,
   "metadata": {
    "colab": {
     "base_uri": "https://localhost:8080/",
     "height": 34
    },
    "colab_type": "code",
    "executionInfo": {
     "elapsed": 631,
     "status": "ok",
     "timestamp": 1587302234808,
     "user": {
      "displayName": "Bruno Resende",
      "photoUrl": "https://lh4.googleusercontent.com/-xGllpZMWIRM/AAAAAAAAAAI/AAAAAAAAATo/KyAa1QvSKlc/s64/photo.jpg",
      "userId": "10713419484442461753"
     },
     "user_tz": 180
    },
    "id": "YtF7T-qBlQPP",
    "outputId": "827d3f6d-34be-4071-de16-d6c58484b0a6"
   },
   "outputs": [
    {
     "data": {
      "text/plain": [
       "{29, 48, 55, 59, 85}"
      ]
     },
     "execution_count": 10,
     "metadata": {
      "tags": []
     },
     "output_type": "execute_result"
    }
   ],
   "source": [
    "set(df1['Temp']).symmetric_difference(df2['Temp'])"
   ]
  }
 ],
 "metadata": {
  "colab": {
   "collapsed_sections": [
    "HlQRTmTwUw7_",
    "vBw4GLAMONsv",
    "ih7y3GajJOB1",
    "sRzi01I9UpBD",
    "M5VKsIbFU7tc",
    "wiCS5-bYNqUr"
   ],
   "name": "[T] - Pandas",
   "provenance": []
  },
  "kernelspec": {
   "display_name": "Python 3",
   "language": "python",
   "name": "python3"
  },
  "language_info": {
   "codemirror_mode": {
    "name": "ipython",
    "version": 3
   },
   "file_extension": ".py",
   "mimetype": "text/x-python",
   "name": "python",
   "nbconvert_exporter": "python",
   "pygments_lexer": "ipython3",
   "version": "3.7.7"
  }
 },
 "nbformat": 4,
 "nbformat_minor": 4
}
